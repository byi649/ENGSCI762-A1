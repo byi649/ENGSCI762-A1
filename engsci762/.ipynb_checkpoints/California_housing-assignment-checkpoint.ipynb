{
 "cells": [
  {
   "cell_type": "markdown",
   "metadata": {},
   "source": [
    "# ENGSCI762 Data Science Assignment\n",
    "\n",
    "Develop a classifier for the California Housing dataset, which estimates the probability that the median house price of a specific district is larger or equal to USD500,000."
   ]
  },
  {
   "cell_type": "code",
   "execution_count": 17,
   "metadata": {
    "collapsed": false
   },
   "outputs": [],
   "source": [
    "import numpy as np \n",
    "import pandas as pd\n",
    "import matplotlib.pyplot as plt\n",
    "import seaborn as sns\n",
    "sns.set()\n",
    "\n",
    "%matplotlib inline"
   ]
  },
  {
   "cell_type": "markdown",
   "metadata": {},
   "source": [
    "## TASK 1 Define the label\n",
    "\n",
    "-  Execute notebook `2_get_California_housing_data.ipynb` and download the California Housing dataset.\n",
    "-  Write a function, which converts the continuous `median_house_value` into a class label, such that the label TRUE or 1 indicates a high priced district.\n",
    "-  Amend the function `split_feature_labels()` (see below) from `4_prepare_California_housing.ipynb` by an optional parameter, which switches the output of the target from regression to classification  \n"
   ]
  },
  {
   "cell_type": "code",
   "execution_count": 18,
   "metadata": {
    "collapsed": false
   },
   "outputs": [
    {
     "name": "stderr",
     "output_type": "stream",
     "text": [
      "C:\\Anaconda\\lib\\site-packages\\numpy\\lib\\function_base.py:3834: RuntimeWarning: Invalid value encountered in percentile\n",
      "  RuntimeWarning)\n"
     ]
    },
    {
     "data": {
      "text/html": [
       "<div>\n",
       "<table border=\"1\" class=\"dataframe\">\n",
       "  <thead>\n",
       "    <tr style=\"text-align: right;\">\n",
       "      <th></th>\n",
       "      <th>longitude</th>\n",
       "      <th>latitude</th>\n",
       "      <th>housing_median_age</th>\n",
       "      <th>total_rooms</th>\n",
       "      <th>total_bedrooms</th>\n",
       "      <th>population</th>\n",
       "      <th>households</th>\n",
       "      <th>median_income</th>\n",
       "    </tr>\n",
       "  </thead>\n",
       "  <tbody>\n",
       "    <tr>\n",
       "      <th>count</th>\n",
       "      <td>16512.000000</td>\n",
       "      <td>16512.000000</td>\n",
       "      <td>16512.000000</td>\n",
       "      <td>16512.000000</td>\n",
       "      <td>16344.000000</td>\n",
       "      <td>16512.000000</td>\n",
       "      <td>16512.000000</td>\n",
       "      <td>16512.000000</td>\n",
       "    </tr>\n",
       "    <tr>\n",
       "      <th>mean</th>\n",
       "      <td>-119.571981</td>\n",
       "      <td>35.634687</td>\n",
       "      <td>28.667696</td>\n",
       "      <td>2637.814801</td>\n",
       "      <td>538.206804</td>\n",
       "      <td>1426.546875</td>\n",
       "      <td>499.568314</td>\n",
       "      <td>3.867417</td>\n",
       "    </tr>\n",
       "    <tr>\n",
       "      <th>std</th>\n",
       "      <td>2.006763</td>\n",
       "      <td>2.138614</td>\n",
       "      <td>12.582749</td>\n",
       "      <td>2178.859507</td>\n",
       "      <td>420.659688</td>\n",
       "      <td>1141.436888</td>\n",
       "      <td>380.887558</td>\n",
       "      <td>1.903056</td>\n",
       "    </tr>\n",
       "    <tr>\n",
       "      <th>min</th>\n",
       "      <td>-124.350000</td>\n",
       "      <td>32.540000</td>\n",
       "      <td>1.000000</td>\n",
       "      <td>2.000000</td>\n",
       "      <td>1.000000</td>\n",
       "      <td>3.000000</td>\n",
       "      <td>1.000000</td>\n",
       "      <td>0.499900</td>\n",
       "    </tr>\n",
       "    <tr>\n",
       "      <th>25%</th>\n",
       "      <td>-121.800000</td>\n",
       "      <td>33.930000</td>\n",
       "      <td>18.000000</td>\n",
       "      <td>1453.000000</td>\n",
       "      <td>NaN</td>\n",
       "      <td>786.000000</td>\n",
       "      <td>280.000000</td>\n",
       "      <td>2.560300</td>\n",
       "    </tr>\n",
       "    <tr>\n",
       "      <th>50%</th>\n",
       "      <td>-118.490000</td>\n",
       "      <td>34.250000</td>\n",
       "      <td>29.000000</td>\n",
       "      <td>2127.000000</td>\n",
       "      <td>NaN</td>\n",
       "      <td>1167.000000</td>\n",
       "      <td>410.000000</td>\n",
       "      <td>3.534800</td>\n",
       "    </tr>\n",
       "    <tr>\n",
       "      <th>75%</th>\n",
       "      <td>-118.007500</td>\n",
       "      <td>37.720000</td>\n",
       "      <td>37.000000</td>\n",
       "      <td>3150.000000</td>\n",
       "      <td>NaN</td>\n",
       "      <td>1728.250000</td>\n",
       "      <td>606.000000</td>\n",
       "      <td>4.739600</td>\n",
       "    </tr>\n",
       "    <tr>\n",
       "      <th>max</th>\n",
       "      <td>-114.310000</td>\n",
       "      <td>41.950000</td>\n",
       "      <td>52.000000</td>\n",
       "      <td>39320.000000</td>\n",
       "      <td>6445.000000</td>\n",
       "      <td>35682.000000</td>\n",
       "      <td>6082.000000</td>\n",
       "      <td>15.000100</td>\n",
       "    </tr>\n",
       "  </tbody>\n",
       "</table>\n",
       "</div>"
      ],
      "text/plain": [
       "          longitude      latitude  housing_median_age   total_rooms  \\\n",
       "count  16512.000000  16512.000000        16512.000000  16512.000000   \n",
       "mean    -119.571981     35.634687           28.667696   2637.814801   \n",
       "std        2.006763      2.138614           12.582749   2178.859507   \n",
       "min     -124.350000     32.540000            1.000000      2.000000   \n",
       "25%     -121.800000     33.930000           18.000000   1453.000000   \n",
       "50%     -118.490000     34.250000           29.000000   2127.000000   \n",
       "75%     -118.007500     37.720000           37.000000   3150.000000   \n",
       "max     -114.310000     41.950000           52.000000  39320.000000   \n",
       "\n",
       "       total_bedrooms    population    households  median_income  \n",
       "count    16344.000000  16512.000000  16512.000000   16512.000000  \n",
       "mean       538.206804   1426.546875    499.568314       3.867417  \n",
       "std        420.659688   1141.436888    380.887558       1.903056  \n",
       "min          1.000000      3.000000      1.000000       0.499900  \n",
       "25%               NaN    786.000000    280.000000       2.560300  \n",
       "50%               NaN   1167.000000    410.000000       3.534800  \n",
       "75%               NaN   1728.250000    606.000000       4.739600  \n",
       "max       6445.000000  35682.000000   6082.000000      15.000100  "
      ]
     },
     "execution_count": 18,
     "metadata": {},
     "output_type": "execute_result"
    }
   ],
   "source": [
    "def convert_median_house_value(housing):\n",
    "    housing[\"median_house_value\"] = housing[\"median_house_value\"] >= 500000\n",
    "    return housing\n",
    "\n",
    "def split_features_labels(filename = '../data/train_set.csv', \n",
    "                          target_col='median_house_value',\n",
    "                          classify=True):\n",
    "    df = pd.read_csv(filename, index_col=0)\n",
    "    \n",
    "    if classify:\n",
    "        df = convert_median_house_value(df)\n",
    "        \n",
    "    X = df.drop(target_col, axis=1)\n",
    "    y = df[target_col].copy()\n",
    "    return X, y\n",
    "\n",
    "housing, housing_labels = split_features_labels(classify=True)\n",
    "housing_test, housing_test_labels = split_features_labels('../data/test_set.csv', classify=True)\n",
    "\n",
    "housing.describe()"
   ]
  },
  {
   "cell_type": "markdown",
   "metadata": {},
   "source": [
    "## TASK 2: Exploratory analysis\n",
    "\n",
    "- If you randomly choose a feature vector from your training set: What is the probability that this feature vector describes a high priced district with `median_house_value`>= USD500,000.\n",
    "- Develop a function `conddist`, which visualizes the conditional distribution of a specific features with respect to the class labels. (Tip: consider seaborn.distplot) \n",
    "- Visualize the spatial distribution of the high-priced districts only (ignoring the other districts)."
   ]
  },
  {
   "cell_type": "code",
   "execution_count": 19,
   "metadata": {
    "collapsed": false
   },
   "outputs": [
    {
     "data": {
      "text/plain": [
       "0.046875"
      ]
     },
     "execution_count": 19,
     "metadata": {},
     "output_type": "execute_result"
    }
   ],
   "source": [
    "housing = pd.read_csv('../data/train_set.csv', index_col = 0)\n",
    "housing = convert_median_house_value(housing)\n",
    "\n",
    "sum(housing[\"median_house_value\"])/housing['median_house_value'].count()"
   ]
  },
  {
   "cell_type": "code",
   "execution_count": 20,
   "metadata": {
    "collapsed": false
   },
   "outputs": [
    {
     "data": {
      "image/png": "[encoded data removed]",
      "text/plain": [
       "<matplotlib.figure.Figure at 0x91c7ed0>"
      ]
     },
     "metadata": {},
     "output_type": "display_data"
    }
   ],
   "source": [
    "def conddist(feature):\n",
    "    sns.distplot(feature, kde=False)\n",
    "    plt.show()\n",
    "    \n",
    "conddist(housing['median_house_value'])"
   ]
  },
  {
   "cell_type": "code",
   "execution_count": 21,
   "metadata": {
    "collapsed": false
   },
   "outputs": [
    {
     "data": {
      "text/plain": [
       "<matplotlib.axes._subplots.AxesSubplot at 0xb0d52d0>"
      ]
     },
     "execution_count": 21,
     "metadata": {},
     "output_type": "execute_result"
    },
    {
     "data": {
      "image/png": "[encoded data removed]",
      "text/plain": [
       "<matplotlib.figure.Figure at 0x9f73850>"
      ]
     },
     "metadata": {},
     "output_type": "display_data"
    }
   ],
   "source": [
    "housing_copy = housing.copy()\n",
    "housing_copy.where(housing_copy['median_house_value'], inplace=True)\n",
    "housing_copy.dropna(subset=['median_house_value'], inplace=True)\n",
    "housing_copy.plot(kind=\"scatter\", x=\"longitude\", y=\"latitude\", alpha=0.1)"
   ]
  },
  {
   "cell_type": "markdown",
   "metadata": {},
   "source": [
    "## TASK 3: Missing transformation\n",
    "\n",
    "In notebook `3_explore_California_housing.ipynb` we had identified a useful transformation, which has not been implemented in `4_prepare_California_housing.ipynb`. \n",
    "* Amend the code of class `CombinedAttributesAdder` in order to include this transformation.\n",
    "* Demonstrate that you're preparation pipeline has been successfully changed. "
   ]
  },
  {
   "cell_type": "markdown",
   "metadata": {},
   "source": [
    "### Temporarily remove categorical attribute"
   ]
  },
  {
   "cell_type": "code",
   "execution_count": 22,
   "metadata": {
    "collapsed": true
   },
   "outputs": [],
   "source": [
    "# Redrop median income\n",
    "housing, housing_labels = split_features_labels(classify=True)\n",
    "\n",
    "# Create DataFrame with numerical features\n",
    "housing_num = housing.drop(\"ocean_proximity\", axis=1)"
   ]
  },
  {
   "cell_type": "markdown",
   "metadata": {},
   "source": [
    "### Define pipelines"
   ]
  },
  {
   "cell_type": "code",
   "execution_count": 23,
   "metadata": {
    "collapsed": false
   },
   "outputs": [],
   "source": [
    "from sklearn.preprocessing import LabelBinarizer\n",
    "from sklearn.base import BaseEstimator, TransformerMixin\n",
    "from sklearn.preprocessing import Imputer\n",
    "from sklearn.pipeline import FeatureUnion\n",
    "from sklearn.pipeline import Pipeline\n",
    "from sklearn.preprocessing import StandardScaler\n",
    "\n",
    "class Binarizer(BaseEstimator, TransformerMixin):\n",
    "    \"Work around until CategoricalEncoder is in stable branch\"\n",
    "    def __init__(self):\n",
    "        self.binarizer = LabelBinarizer()\n",
    "    def fit(self, X, y=None):\n",
    "        return self.binarizer.fit(X)\n",
    "    def transform(self, X, y=None):\n",
    "        return self.binarizer.transform(X)\n",
    "    \n",
    "class DataFrameSelector(BaseEstimator, TransformerMixin):\n",
    "    def __init__(self, attribute_names):\n",
    "        self.attribute_names = attribute_names\n",
    "    def fit(self, X, y=None):\n",
    "        return self\n",
    "    def transform(self, X):\n",
    "        return X[self.attribute_names].values\n",
    "    \n",
    "num_attribs = list(housing_num)\n",
    "cat_attribs = [\"ocean_proximity\"]\n",
    "\n",
    "rooms_ix, bedrooms_ix, population_ix, household_ix = 3, 4, 5, 6\n",
    "\n",
    "class CombinedAttributesAdder(BaseEstimator, TransformerMixin):\n",
    "    def __init__(self, add_bedrooms_per_room = True): # no *args or **kargs\n",
    "        self.add_bedrooms_per_room = add_bedrooms_per_room\n",
    "        self.added_columns = [\"rooms_per_household\", \"population_per_household\", \"log_population_per_household\"]\n",
    "        if self.add_bedrooms_per_room:\n",
    "            self.added_columns += [\"bedrooms_per_room\"]\n",
    "            \n",
    "    def fit(self, X, y=None):\n",
    "        return self  # nothing else to do\n",
    "    \n",
    "    def transform(self, X, y=None):\n",
    "        rooms_per_household = X[:, rooms_ix] / X[:, household_ix]\n",
    "        population_per_household = X[:, population_ix] / X[:, household_ix]\n",
    "        log_population_per_househould = np.log(population_per_household)\n",
    "        if self.add_bedrooms_per_room:\n",
    "            bedrooms_per_room = X[:, bedrooms_ix] / X[:, rooms_ix]\n",
    "            return np.c_[X, rooms_per_household, population_per_household, log_population_per_househould, bedrooms_per_room]\n",
    "        else:\n",
    "            return np.c_[X, rooms_per_household, population_per_household, log_population_per_househould]\n",
    "        \n",
    "num_pipeline = Pipeline([\n",
    "        ('selector', DataFrameSelector(num_attribs)),\n",
    "        ('imputer', Imputer(strategy=\"median\")),\n",
    "        ('attribs_adder', CombinedAttributesAdder()),\n",
    "        ('std_scaler', StandardScaler()),\n",
    "    ])\n",
    "\n",
    "# Monkey-patch function returning feature names\n",
    "all_num_columns = num_attribs + num_pipeline.named_steps['attribs_adder'].added_columns\n",
    "num_pipeline.get_feature_names = lambda: all_num_columns\n",
    "\n",
    "# Modify class by inheritance\n",
    "cat_pipeline_steps = [\n",
    "        ('selector', DataFrameSelector(cat_attribs)),\n",
    "        ('label_encoder', Binarizer()),\n",
    "    ]\n",
    "\n",
    "class MyPipeline(Pipeline):\n",
    "    def get_feature_names(self):\n",
    "        return self.steps[1][1].binarizer.classes_\n",
    "    \n",
    "cat_pipeline = MyPipeline(cat_pipeline_steps)\n",
    "\n",
    "preparation_pipeline = FeatureUnion(transformer_list=[\n",
    "        (\"num_pipeline\", num_pipeline),\n",
    "        (\"cat_pipeline\", cat_pipeline),\n",
    "    ])"
   ]
  },
  {
   "cell_type": "code",
   "execution_count": 24,
   "metadata": {
    "collapsed": false
   },
   "outputs": [
    {
     "data": {
      "text/html": [
       "<div>\n",
       "<table border=\"1\" class=\"dataframe\">\n",
       "  <thead>\n",
       "    <tr style=\"text-align: right;\">\n",
       "      <th></th>\n",
       "      <th>num_pipeline__longitude</th>\n",
       "      <th>num_pipeline__latitude</th>\n",
       "      <th>num_pipeline__housing_median_age</th>\n",
       "      <th>num_pipeline__total_rooms</th>\n",
       "      <th>num_pipeline__total_bedrooms</th>\n",
       "      <th>num_pipeline__population</th>\n",
       "      <th>num_pipeline__households</th>\n",
       "      <th>num_pipeline__median_income</th>\n",
       "      <th>num_pipeline__rooms_per_household</th>\n",
       "      <th>num_pipeline__population_per_household</th>\n",
       "      <th>num_pipeline__log_population_per_household</th>\n",
       "      <th>num_pipeline__bedrooms_per_room</th>\n",
       "      <th>cat_pipeline__&lt;1H OCEAN</th>\n",
       "      <th>cat_pipeline__INLAND</th>\n",
       "      <th>cat_pipeline__ISLAND</th>\n",
       "      <th>cat_pipeline__NEAR BAY</th>\n",
       "      <th>cat_pipeline__NEAR OCEAN</th>\n",
       "    </tr>\n",
       "  </thead>\n",
       "  <tbody>\n",
       "    <tr>\n",
       "      <th>1862</th>\n",
       "      <td>-2.281365</td>\n",
       "      <td>2.887619</td>\n",
       "      <td>-0.927305</td>\n",
       "      <td>0.292908</td>\n",
       "      <td>0.217002</td>\n",
       "      <td>1.856885</td>\n",
       "      <td>0.224303</td>\n",
       "      <td>-0.830593</td>\n",
       "      <td>0.060497</td>\n",
       "      <td>0.255269</td>\n",
       "      <td>2.775788</td>\n",
       "      <td>-0.346868</td>\n",
       "      <td>0.0</td>\n",
       "      <td>0.0</td>\n",
       "      <td>0.0</td>\n",
       "      <td>0.0</td>\n",
       "      <td>1.0</td>\n",
       "    </tr>\n",
       "    <tr>\n",
       "      <th>18832</th>\n",
       "      <td>-1.668419</td>\n",
       "      <td>2.836182</td>\n",
       "      <td>-0.450447</td>\n",
       "      <td>0.633004</td>\n",
       "      <td>0.608756</td>\n",
       "      <td>0.181753</td>\n",
       "      <td>0.313571</td>\n",
       "      <td>-0.793651</td>\n",
       "      <td>0.402002</td>\n",
       "      <td>-0.039779</td>\n",
       "      <td>-0.265156</td>\n",
       "      <td>-0.260680</td>\n",
       "      <td>0.0</td>\n",
       "      <td>1.0</td>\n",
       "      <td>0.0</td>\n",
       "      <td>0.0</td>\n",
       "      <td>0.0</td>\n",
       "    </tr>\n",
       "    <tr>\n",
       "      <th>2488</th>\n",
       "      <td>-0.387710</td>\n",
       "      <td>0.236288</td>\n",
       "      <td>-1.563116</td>\n",
       "      <td>0.015231</td>\n",
       "      <td>0.262388</td>\n",
       "      <td>0.050336</td>\n",
       "      <td>0.108780</td>\n",
       "      <td>-1.135007</td>\n",
       "      <td>-0.193990</td>\n",
       "      <td>-0.030870</td>\n",
       "      <td>-0.124698</td>\n",
       "      <td>0.450124</td>\n",
       "      <td>0.0</td>\n",
       "      <td>1.0</td>\n",
       "      <td>0.0</td>\n",
       "      <td>0.0</td>\n",
       "      <td>0.0</td>\n",
       "    </tr>\n",
       "    <tr>\n",
       "      <th>7637</th>\n",
       "      <td>0.638850</td>\n",
       "      <td>-0.848560</td>\n",
       "      <td>-0.609400</td>\n",
       "      <td>0.800987</td>\n",
       "      <td>0.869129</td>\n",
       "      <td>1.106054</td>\n",
       "      <td>1.085476</td>\n",
       "      <td>-0.225916</td>\n",
       "      <td>-0.246395</td>\n",
       "      <td>-0.013438</td>\n",
       "      <td>0.135438</td>\n",
       "      <td>-0.128123</td>\n",
       "      <td>1.0</td>\n",
       "      <td>0.0</td>\n",
       "      <td>0.0</td>\n",
       "      <td>0.0</td>\n",
       "      <td>0.0</td>\n",
       "    </tr>\n",
       "    <tr>\n",
       "      <th>6941</th>\n",
       "      <td>0.733532</td>\n",
       "      <td>-0.769067</td>\n",
       "      <td>0.185363</td>\n",
       "      <td>-0.767771</td>\n",
       "      <td>-0.764773</td>\n",
       "      <td>-0.725026</td>\n",
       "      <td>-0.770771</td>\n",
       "      <td>-0.602847</td>\n",
       "      <td>-0.291004</td>\n",
       "      <td>-0.016668</td>\n",
       "      <td>0.088602</td>\n",
       "      <td>0.176319</td>\n",
       "      <td>1.0</td>\n",
       "      <td>0.0</td>\n",
       "      <td>0.0</td>\n",
       "      <td>0.0</td>\n",
       "      <td>0.0</td>\n",
       "    </tr>\n",
       "  </tbody>\n",
       "</table>\n",
       "</div>"
      ],
      "text/plain": [
       "       num_pipeline__longitude  num_pipeline__latitude  \\\n",
       "1862                 -2.281365                2.887619   \n",
       "18832                -1.668419                2.836182   \n",
       "2488                 -0.387710                0.236288   \n",
       "7637                  0.638850               -0.848560   \n",
       "6941                  0.733532               -0.769067   \n",
       "\n",
       "       num_pipeline__housing_median_age  num_pipeline__total_rooms  \\\n",
       "1862                          -0.927305                   0.292908   \n",
       "18832                         -0.450447                   0.633004   \n",
       "2488                          -1.563116                   0.015231   \n",
       "7637                          -0.609400                   0.800987   \n",
       "6941                           0.185363                  -0.767771   \n",
       "\n",
       "       num_pipeline__total_bedrooms  num_pipeline__population  \\\n",
       "1862                       0.217002                  1.856885   \n",
       "18832                      0.608756                  0.181753   \n",
       "2488                       0.262388                  0.050336   \n",
       "7637                       0.869129                  1.106054   \n",
       "6941                      -0.764773                 -0.725026   \n",
       "\n",
       "       num_pipeline__households  num_pipeline__median_income  \\\n",
       "1862                   0.224303                    -0.830593   \n",
       "18832                  0.313571                    -0.793651   \n",
       "2488                   0.108780                    -1.135007   \n",
       "7637                   1.085476                    -0.225916   \n",
       "6941                  -0.770771                    -0.602847   \n",
       "\n",
       "       num_pipeline__rooms_per_household  \\\n",
       "1862                            0.060497   \n",
       "18832                           0.402002   \n",
       "2488                           -0.193990   \n",
       "7637                           -0.246395   \n",
       "6941                           -0.291004   \n",
       "\n",
       "       num_pipeline__population_per_household  \\\n",
       "1862                                 0.255269   \n",
       "18832                               -0.039779   \n",
       "2488                                -0.030870   \n",
       "7637                                -0.013438   \n",
       "6941                                -0.016668   \n",
       "\n",
       "       num_pipeline__log_population_per_household  \\\n",
       "1862                                     2.775788   \n",
       "18832                                   -0.265156   \n",
       "2488                                    -0.124698   \n",
       "7637                                     0.135438   \n",
       "6941                                     0.088602   \n",
       "\n",
       "       num_pipeline__bedrooms_per_room  cat_pipeline__<1H OCEAN  \\\n",
       "1862                         -0.346868                      0.0   \n",
       "18832                        -0.260680                      0.0   \n",
       "2488                          0.450124                      0.0   \n",
       "7637                         -0.128123                      1.0   \n",
       "6941                          0.176319                      1.0   \n",
       "\n",
       "       cat_pipeline__INLAND  cat_pipeline__ISLAND  cat_pipeline__NEAR BAY  \\\n",
       "1862                    0.0                   0.0                     0.0   \n",
       "18832                   1.0                   0.0                     0.0   \n",
       "2488                    1.0                   0.0                     0.0   \n",
       "7637                    0.0                   0.0                     0.0   \n",
       "6941                    0.0                   0.0                     0.0   \n",
       "\n",
       "       cat_pipeline__NEAR OCEAN  \n",
       "1862                        1.0  \n",
       "18832                       0.0  \n",
       "2488                        0.0  \n",
       "7637                        0.0  \n",
       "6941                        0.0  "
      ]
     },
     "execution_count": 24,
     "metadata": {},
     "output_type": "execute_result"
    }
   ],
   "source": [
    "X_train = pd.DataFrame(preparation_pipeline.fit_transform(housing),\n",
    "                       columns=preparation_pipeline.get_feature_names(),\n",
    "                       index = housing.index)\n",
    "X_train.head()"
   ]
  },
  {
   "cell_type": "markdown",
   "metadata": {},
   "source": [
    "## TASK 4: Visualize new continuous features\n",
    "* Use function `conddist` from Task 2 for visualizing the new continuous features.\n",
    "* Discuss the diagrams"
   ]
  },
  {
   "cell_type": "code",
   "execution_count": 25,
   "metadata": {
    "collapsed": false
   },
   "outputs": [
    {
     "data": {
      "image/png": "[encoded data removed]",
      "text/plain": [
       "<matplotlib.figure.Figure at 0xa3085f0>"
      ]
     },
     "metadata": {},
     "output_type": "display_data"
    },
    {
     "data": {
      "image/png": "[encoded data removed]",
      "text/plain": [
       "<matplotlib.figure.Figure at 0x9af6b10>"
      ]
     },
     "metadata": {},
     "output_type": "display_data"
    },
    {
     "data": {
      "image/png": "[encoded data removed]",
      "text/plain": [
       "<matplotlib.figure.Figure at 0x9a9c1f0>"
      ]
     },
     "metadata": {},
     "output_type": "display_data"
    },
    {
     "data": {
      "image/png": "[encoded data removed]",
      "text/plain": [
       "<matplotlib.figure.Figure at 0xb0c4d90>"
      ]
     },
     "metadata": {},
     "output_type": "display_data"
    }
   ],
   "source": [
    "conddist(X_train['num_pipeline__population_per_household'])\n",
    "conddist(X_train['num_pipeline__log_population_per_household'])\n",
    "conddist(X_train['num_pipeline__rooms_per_household'])\n",
    "conddist(X_train['num_pipeline__bedrooms_per_room'])"
   ]
  },
  {
   "cell_type": "markdown",
   "metadata": {},
   "source": [
    "## TASK 5: Use clustering for the engineering of additional geo-spatial features\n",
    "\n",
    "- Read the documentation of `sklearn.clustering.KMeans` and train a `KMeans`model with respect to `longitude` and `lattidue`.\n",
    "- Visualize the predictions of KMeans.\n",
    "- How do the predictions change for different values of parameter `n_clusters`? "
   ]
  },
  {
   "cell_type": "code",
   "execution_count": 26,
   "metadata": {
    "collapsed": false
   },
   "outputs": [
    {
     "data": {
      "text/plain": [
       "<matplotlib.collections.PathCollection at 0x9f0faf0>"
      ]
     },
     "execution_count": 26,
     "metadata": {},
     "output_type": "execute_result"
    },
    {
     "data": {
      "image/png": "[encoded data removed]",
      "text/plain": [
       "<matplotlib.figure.Figure at 0xa331c10>"
      ]
     },
     "metadata": {},
     "output_type": "display_data"
    }
   ],
   "source": [
    "from sklearn.cluster import KMeans\n",
    "\n",
    "n_clusters = 3\n",
    "\n",
    "X_coord = np.c_[X_train['num_pipeline__longitude'], X_train['num_pipeline__latitude']]\n",
    "y_pred = KMeans(n_clusters=n_clusters).fit_predict(X_coord)\n",
    "plt.scatter(X_coord[:,0], X_coord[:,1], c=y_pred)"
   ]
  },
  {
   "cell_type": "markdown",
   "metadata": {},
   "source": [
    "## TASK 6: Add the KMeans predictions to the preparation pipeline\n",
    "\n",
    "* Develop an extended `preparation_pipeline`, which includes the geo-spatial information provided by `KMeans.fit_transform()`. \n",
    "* What is the interpretation of these features?"
   ]
  },
  {
   "cell_type": "code",
   "execution_count": 27,
   "metadata": {
    "collapsed": true
   },
   "outputs": [],
   "source": [
    "n_clusters = 3"
   ]
  },
  {
   "cell_type": "code",
   "execution_count": 28,
   "metadata": {
    "collapsed": false
   },
   "outputs": [],
   "source": [
    "# Modify class by inheritance\n",
    "kmeans_pipeline_steps = [\n",
    "        ('selector', DataFrameSelector(['longitude', 'latitude'])),\n",
    "        ('clustering', KMeans(n_clusters = n_clusters)),\n",
    "    ]\n",
    "\n",
    "class KMyPipeline(Pipeline):\n",
    "    def get_feature_names(self):\n",
    "        return [str(s) for s in range(n_clusters)]\n",
    "    \n",
    "kmeans_pipeline = KMyPipeline(kmeans_pipeline_steps)\n",
    "\n",
    "preparation_pipeline = FeatureUnion(transformer_list=[\n",
    "        (\"num_pipeline\", num_pipeline),\n",
    "        (\"geo_pipeline\", kmeans_pipeline),\n",
    "        (\"cat_pipeline\", cat_pipeline),\n",
    "    ])"
   ]
  },
  {
   "cell_type": "markdown",
   "metadata": {},
   "source": [
    "This adds new features with value equal to the distance from the cluster centres"
   ]
  },
  {
   "cell_type": "code",
   "execution_count": 29,
   "metadata": {
    "collapsed": false
   },
   "outputs": [
    {
     "data": {
      "text/html": [
       "<div>\n",
       "<table border=\"1\" class=\"dataframe\">\n",
       "  <thead>\n",
       "    <tr style=\"text-align: right;\">\n",
       "      <th></th>\n",
       "      <th>num_pipeline__longitude</th>\n",
       "      <th>num_pipeline__latitude</th>\n",
       "      <th>num_pipeline__housing_median_age</th>\n",
       "      <th>num_pipeline__total_rooms</th>\n",
       "      <th>num_pipeline__total_bedrooms</th>\n",
       "      <th>num_pipeline__population</th>\n",
       "      <th>num_pipeline__households</th>\n",
       "      <th>num_pipeline__median_income</th>\n",
       "      <th>num_pipeline__rooms_per_household</th>\n",
       "      <th>num_pipeline__population_per_household</th>\n",
       "      <th>num_pipeline__log_population_per_household</th>\n",
       "      <th>num_pipeline__bedrooms_per_room</th>\n",
       "      <th>geo_pipeline__0</th>\n",
       "      <th>geo_pipeline__1</th>\n",
       "      <th>geo_pipeline__2</th>\n",
       "      <th>cat_pipeline__&lt;1H OCEAN</th>\n",
       "      <th>cat_pipeline__INLAND</th>\n",
       "      <th>cat_pipeline__ISLAND</th>\n",
       "      <th>cat_pipeline__NEAR BAY</th>\n",
       "      <th>cat_pipeline__NEAR OCEAN</th>\n",
       "    </tr>\n",
       "  </thead>\n",
       "  <tbody>\n",
       "    <tr>\n",
       "      <th>1862</th>\n",
       "      <td>-2.281365</td>\n",
       "      <td>2.887619</td>\n",
       "      <td>-0.927305</td>\n",
       "      <td>0.292908</td>\n",
       "      <td>0.217002</td>\n",
       "      <td>1.856885</td>\n",
       "      <td>0.224303</td>\n",
       "      <td>-0.830593</td>\n",
       "      <td>0.060497</td>\n",
       "      <td>0.255269</td>\n",
       "      <td>2.775788</td>\n",
       "      <td>-0.346868</td>\n",
       "      <td>7.309298</td>\n",
       "      <td>10.151911</td>\n",
       "      <td>4.313853</td>\n",
       "      <td>0.0</td>\n",
       "      <td>0.0</td>\n",
       "      <td>0.0</td>\n",
       "      <td>0.0</td>\n",
       "      <td>1.0</td>\n",
       "    </tr>\n",
       "    <tr>\n",
       "      <th>18832</th>\n",
       "      <td>-1.668419</td>\n",
       "      <td>2.836182</td>\n",
       "      <td>-0.450447</td>\n",
       "      <td>0.633004</td>\n",
       "      <td>0.608756</td>\n",
       "      <td>0.181753</td>\n",
       "      <td>0.313571</td>\n",
       "      <td>-0.793651</td>\n",
       "      <td>0.402002</td>\n",
       "      <td>-0.039779</td>\n",
       "      <td>-0.265156</td>\n",
       "      <td>-0.260680</td>\n",
       "      <td>6.538674</td>\n",
       "      <td>9.349548</td>\n",
       "      <td>3.722161</td>\n",
       "      <td>0.0</td>\n",
       "      <td>1.0</td>\n",
       "      <td>0.0</td>\n",
       "      <td>0.0</td>\n",
       "      <td>0.0</td>\n",
       "    </tr>\n",
       "    <tr>\n",
       "      <th>2488</th>\n",
       "      <td>-0.387710</td>\n",
       "      <td>0.236288</td>\n",
       "      <td>-1.563116</td>\n",
       "      <td>0.015231</td>\n",
       "      <td>0.262388</td>\n",
       "      <td>0.050336</td>\n",
       "      <td>0.108780</td>\n",
       "      <td>-1.135007</td>\n",
       "      <td>-0.193990</td>\n",
       "      <td>-0.030870</td>\n",
       "      <td>-0.124698</td>\n",
       "      <td>0.450124</td>\n",
       "      <td>0.653199</td>\n",
       "      <td>3.384060</td>\n",
       "      <td>2.525958</td>\n",
       "      <td>0.0</td>\n",
       "      <td>1.0</td>\n",
       "      <td>0.0</td>\n",
       "      <td>0.0</td>\n",
       "      <td>0.0</td>\n",
       "    </tr>\n",
       "    <tr>\n",
       "      <th>7637</th>\n",
       "      <td>0.638850</td>\n",
       "      <td>-0.848560</td>\n",
       "      <td>-0.609400</td>\n",
       "      <td>0.800987</td>\n",
       "      <td>0.869129</td>\n",
       "      <td>1.106054</td>\n",
       "      <td>1.085476</td>\n",
       "      <td>-0.225916</td>\n",
       "      <td>-0.246395</td>\n",
       "      <td>-0.013438</td>\n",
       "      <td>0.135438</td>\n",
       "      <td>-0.128123</td>\n",
       "      <td>2.604724</td>\n",
       "      <td>0.406294</td>\n",
       "      <td>5.626699</td>\n",
       "      <td>1.0</td>\n",
       "      <td>0.0</td>\n",
       "      <td>0.0</td>\n",
       "      <td>0.0</td>\n",
       "      <td>0.0</td>\n",
       "    </tr>\n",
       "    <tr>\n",
       "      <th>6941</th>\n",
       "      <td>0.733532</td>\n",
       "      <td>-0.769067</td>\n",
       "      <td>0.185363</td>\n",
       "      <td>-0.767771</td>\n",
       "      <td>-0.764773</td>\n",
       "      <td>-0.725026</td>\n",
       "      <td>-0.770771</td>\n",
       "      <td>-0.602847</td>\n",
       "      <td>-0.291004</td>\n",
       "      <td>-0.016668</td>\n",
       "      <td>0.088602</td>\n",
       "      <td>0.176319</td>\n",
       "      <td>2.578293</td>\n",
       "      <td>0.273362</td>\n",
       "      <td>5.625628</td>\n",
       "      <td>1.0</td>\n",
       "      <td>0.0</td>\n",
       "      <td>0.0</td>\n",
       "      <td>0.0</td>\n",
       "      <td>0.0</td>\n",
       "    </tr>\n",
       "  </tbody>\n",
       "</table>\n",
       "</div>"
      ],
      "text/plain": [
       "       num_pipeline__longitude  num_pipeline__latitude  \\\n",
       "1862                 -2.281365                2.887619   \n",
       "18832                -1.668419                2.836182   \n",
       "2488                 -0.387710                0.236288   \n",
       "7637                  0.638850               -0.848560   \n",
       "6941                  0.733532               -0.769067   \n",
       "\n",
       "       num_pipeline__housing_median_age  num_pipeline__total_rooms  \\\n",
       "1862                          -0.927305                   0.292908   \n",
       "18832                         -0.450447                   0.633004   \n",
       "2488                          -1.563116                   0.015231   \n",
       "7637                          -0.609400                   0.800987   \n",
       "6941                           0.185363                  -0.767771   \n",
       "\n",
       "       num_pipeline__total_bedrooms  num_pipeline__population  \\\n",
       "1862                       0.217002                  1.856885   \n",
       "18832                      0.608756                  0.181753   \n",
       "2488                       0.262388                  0.050336   \n",
       "7637                       0.869129                  1.106054   \n",
       "6941                      -0.764773                 -0.725026   \n",
       "\n",
       "       num_pipeline__households  num_pipeline__median_income  \\\n",
       "1862                   0.224303                    -0.830593   \n",
       "18832                  0.313571                    -0.793651   \n",
       "2488                   0.108780                    -1.135007   \n",
       "7637                   1.085476                    -0.225916   \n",
       "6941                  -0.770771                    -0.602847   \n",
       "\n",
       "       num_pipeline__rooms_per_household  \\\n",
       "1862                            0.060497   \n",
       "18832                           0.402002   \n",
       "2488                           -0.193990   \n",
       "7637                           -0.246395   \n",
       "6941                           -0.291004   \n",
       "\n",
       "       num_pipeline__population_per_household  \\\n",
       "1862                                 0.255269   \n",
       "18832                               -0.039779   \n",
       "2488                                -0.030870   \n",
       "7637                                -0.013438   \n",
       "6941                                -0.016668   \n",
       "\n",
       "       num_pipeline__log_population_per_household  \\\n",
       "1862                                     2.775788   \n",
       "18832                                   -0.265156   \n",
       "2488                                    -0.124698   \n",
       "7637                                     0.135438   \n",
       "6941                                     0.088602   \n",
       "\n",
       "       num_pipeline__bedrooms_per_room  geo_pipeline__0  geo_pipeline__1  \\\n",
       "1862                         -0.346868         7.309298        10.151911   \n",
       "18832                        -0.260680         6.538674         9.349548   \n",
       "2488                          0.450124         0.653199         3.384060   \n",
       "7637                         -0.128123         2.604724         0.406294   \n",
       "6941                          0.176319         2.578293         0.273362   \n",
       "\n",
       "       geo_pipeline__2  cat_pipeline__<1H OCEAN  cat_pipeline__INLAND  \\\n",
       "1862          4.313853                      0.0                   0.0   \n",
       "18832         3.722161                      0.0                   1.0   \n",
       "2488          2.525958                      0.0                   1.0   \n",
       "7637          5.626699                      1.0                   0.0   \n",
       "6941          5.625628                      1.0                   0.0   \n",
       "\n",
       "       cat_pipeline__ISLAND  cat_pipeline__NEAR BAY  cat_pipeline__NEAR OCEAN  \n",
       "1862                    0.0                     0.0                       1.0  \n",
       "18832                   0.0                     0.0                       0.0  \n",
       "2488                    0.0                     0.0                       0.0  \n",
       "7637                    0.0                     0.0                       0.0  \n",
       "6941                    0.0                     0.0                       0.0  "
      ]
     },
     "execution_count": 29,
     "metadata": {},
     "output_type": "execute_result"
    }
   ],
   "source": [
    "X_train = pd.DataFrame(preparation_pipeline.fit_transform(housing),\n",
    "                       columns=preparation_pipeline.get_feature_names(),\n",
    "                       index = housing.index)\n",
    "X_train.head()"
   ]
  },
  {
   "cell_type": "markdown",
   "metadata": {},
   "source": [
    "## TASK 7: Evaluate different classifiers and select two\n",
    "\n",
    "* Evaluate the accuracy of `LogisticRegression`, `DecisionTreeClassifier`, `AdaBoostClassifier`, `GradientBoostingClassifier`, and `RandomForestClassifier` with 10-fold cross-validation. \n",
    "\n",
    "- Discuss the most important features for the two best performing classifiers. Are the geo-spatial features relevant?\n",
    "\n",
    "- Select the best performing classifier for the next task."
   ]
  },
  {
   "cell_type": "code",
   "execution_count": 30,
   "metadata": {
    "collapsed": false
   },
   "outputs": [],
   "source": [
    "from sklearn.linear_model import LogisticRegression\n",
    "from sklearn.tree import DecisionTreeClassifier\n",
    "from sklearn.ensemble import AdaBoostClassifier\n",
    "from sklearn.ensemble import GradientBoostingClassifier\n",
    "from sklearn.ensemble import RandomForestClassifier\n",
    "\n",
    "log_reg = LogisticRegression()\n",
    "dec_cls = DecisionTreeClassifier()\n",
    "adb_cls = AdaBoostClassifier()\n",
    "grb_cls = GradientBoostingClassifier()\n",
    "fst_cls = RandomForestClassifier()"
   ]
  },
  {
   "cell_type": "code",
   "execution_count": 36,
   "metadata": {
    "collapsed": false
   },
   "outputs": [
    {
     "data": {
      "text/html": [
       "<div>\n",
       "<table border=\"1\" class=\"dataframe\">\n",
       "  <thead>\n",
       "    <tr style=\"text-align: right;\">\n",
       "      <th></th>\n",
       "      <th>adb_cls</th>\n",
       "      <th>dec_cls</th>\n",
       "      <th>fst_cls</th>\n",
       "      <th>grb_cls</th>\n",
       "      <th>log_reg</th>\n",
       "    </tr>\n",
       "  </thead>\n",
       "  <tbody>\n",
       "    <tr>\n",
       "      <th>0</th>\n",
       "      <td>0.592593</td>\n",
       "      <td>0.546584</td>\n",
       "      <td>0.645669</td>\n",
       "      <td>0.680851</td>\n",
       "      <td>0.646154</td>\n",
       "    </tr>\n",
       "    <tr>\n",
       "      <th>1</th>\n",
       "      <td>0.511278</td>\n",
       "      <td>0.532468</td>\n",
       "      <td>0.645669</td>\n",
       "      <td>0.666667</td>\n",
       "      <td>0.582677</td>\n",
       "    </tr>\n",
       "    <tr>\n",
       "      <th>2</th>\n",
       "      <td>0.622222</td>\n",
       "      <td>0.562500</td>\n",
       "      <td>0.682171</td>\n",
       "      <td>0.705882</td>\n",
       "      <td>0.650794</td>\n",
       "    </tr>\n",
       "    <tr>\n",
       "      <th>3</th>\n",
       "      <td>0.604317</td>\n",
       "      <td>0.588957</td>\n",
       "      <td>0.566667</td>\n",
       "      <td>0.638298</td>\n",
       "      <td>0.622222</td>\n",
       "    </tr>\n",
       "    <tr>\n",
       "      <th>4</th>\n",
       "      <td>0.634146</td>\n",
       "      <td>0.512500</td>\n",
       "      <td>0.611570</td>\n",
       "      <td>0.661417</td>\n",
       "      <td>0.581197</td>\n",
       "    </tr>\n",
       "    <tr>\n",
       "      <th>5</th>\n",
       "      <td>0.651852</td>\n",
       "      <td>0.597701</td>\n",
       "      <td>0.693548</td>\n",
       "      <td>0.711111</td>\n",
       "      <td>0.603175</td>\n",
       "    </tr>\n",
       "    <tr>\n",
       "      <th>6</th>\n",
       "      <td>0.571429</td>\n",
       "      <td>0.500000</td>\n",
       "      <td>0.576271</td>\n",
       "      <td>0.612903</td>\n",
       "      <td>0.592000</td>\n",
       "    </tr>\n",
       "    <tr>\n",
       "      <th>7</th>\n",
       "      <td>0.666667</td>\n",
       "      <td>0.560000</td>\n",
       "      <td>0.650000</td>\n",
       "      <td>0.744526</td>\n",
       "      <td>0.621849</td>\n",
       "    </tr>\n",
       "    <tr>\n",
       "      <th>8</th>\n",
       "      <td>0.475410</td>\n",
       "      <td>0.551724</td>\n",
       "      <td>0.573770</td>\n",
       "      <td>0.582677</td>\n",
       "      <td>0.458716</td>\n",
       "    </tr>\n",
       "    <tr>\n",
       "      <th>9</th>\n",
       "      <td>0.600000</td>\n",
       "      <td>0.636943</td>\n",
       "      <td>0.695652</td>\n",
       "      <td>0.661871</td>\n",
       "      <td>0.550000</td>\n",
       "    </tr>\n",
       "  </tbody>\n",
       "</table>\n",
       "</div>"
      ],
      "text/plain": [
       "    adb_cls   dec_cls   fst_cls   grb_cls   log_reg\n",
       "0  0.592593  0.546584  0.645669  0.680851  0.646154\n",
       "1  0.511278  0.532468  0.645669  0.666667  0.582677\n",
       "2  0.622222  0.562500  0.682171  0.705882  0.650794\n",
       "3  0.604317  0.588957  0.566667  0.638298  0.622222\n",
       "4  0.634146  0.512500  0.611570  0.661417  0.581197\n",
       "5  0.651852  0.597701  0.693548  0.711111  0.603175\n",
       "6  0.571429  0.500000  0.576271  0.612903  0.592000\n",
       "7  0.666667  0.560000  0.650000  0.744526  0.621849\n",
       "8  0.475410  0.551724  0.573770  0.582677  0.458716\n",
       "9  0.600000  0.636943  0.695652  0.661871  0.550000"
      ]
     },
     "execution_count": 36,
     "metadata": {},
     "output_type": "execute_result"
    }
   ],
   "source": [
    "from sklearn.model_selection import cross_val_score\n",
    "\n",
    "y_train = housing_labels\n",
    "cv_scores = lambda reg: cross_val_score(reg, X_train, np.ravel(y_train), scoring=\"f1\", cv=10)\n",
    "\n",
    "regressors = ['log_reg', 'dec_cls', 'adb_cls', 'grb_cls', 'fst_cls']\n",
    "\n",
    "scores = dict([(var, cv_scores(globals()[var])) for var in regressors])\n",
    "performance = pd.DataFrame(scores)\n",
    "performance"
   ]
  },
  {
   "cell_type": "code",
   "execution_count": null,
   "metadata": {
    "collapsed": false
   },
   "outputs": [],
   "source": [
    "performance.aggregate(['mean', 'std'])"
   ]
  },
  {
   "cell_type": "code",
   "execution_count": 45,
   "metadata": {
    "collapsed": false
   },
   "outputs": [
    {
     "data": {
      "text/html": [
       "<div>\n",
       "<table border=\"1\" class=\"dataframe\">\n",
       "  <thead>\n",
       "    <tr style=\"text-align: right;\">\n",
       "      <th></th>\n",
       "      <th>fst_cls</th>\n",
       "      <th>grb_cls</th>\n",
       "    </tr>\n",
       "  </thead>\n",
       "  <tbody>\n",
       "    <tr>\n",
       "      <th>num_pipeline__median_income</th>\n",
       "      <td>0.274022</td>\n",
       "      <td>0.284421</td>\n",
       "    </tr>\n",
       "    <tr>\n",
       "      <th>num_pipeline__rooms_per_household</th>\n",
       "      <td>0.068141</td>\n",
       "      <td>0.106374</td>\n",
       "    </tr>\n",
       "    <tr>\n",
       "      <th>num_pipeline__latitude</th>\n",
       "      <td>0.045814</td>\n",
       "      <td>0.102876</td>\n",
       "    </tr>\n",
       "    <tr>\n",
       "      <th>geo_pipeline__1</th>\n",
       "      <td>0.045805</td>\n",
       "      <td>0.090838</td>\n",
       "    </tr>\n",
       "    <tr>\n",
       "      <th>num_pipeline__housing_median_age</th>\n",
       "      <td>0.061730</td>\n",
       "      <td>0.061691</td>\n",
       "    </tr>\n",
       "    <tr>\n",
       "      <th>geo_pipeline__2</th>\n",
       "      <td>0.050084</td>\n",
       "      <td>0.046553</td>\n",
       "    </tr>\n",
       "    <tr>\n",
       "      <th>num_pipeline__population_per_household</th>\n",
       "      <td>0.056835</td>\n",
       "      <td>0.043873</td>\n",
       "    </tr>\n",
       "    <tr>\n",
       "      <th>num_pipeline__log_population_per_household</th>\n",
       "      <td>0.062429</td>\n",
       "      <td>0.043793</td>\n",
       "    </tr>\n",
       "    <tr>\n",
       "      <th>geo_pipeline__0</th>\n",
       "      <td>0.048106</td>\n",
       "      <td>0.043116</td>\n",
       "    </tr>\n",
       "    <tr>\n",
       "      <th>num_pipeline__longitude</th>\n",
       "      <td>0.062193</td>\n",
       "      <td>0.042704</td>\n",
       "    </tr>\n",
       "    <tr>\n",
       "      <th>num_pipeline__bedrooms_per_room</th>\n",
       "      <td>0.092515</td>\n",
       "      <td>0.030268</td>\n",
       "    </tr>\n",
       "    <tr>\n",
       "      <th>cat_pipeline__NEAR OCEAN</th>\n",
       "      <td>0.005536</td>\n",
       "      <td>0.018613</td>\n",
       "    </tr>\n",
       "    <tr>\n",
       "      <th>num_pipeline__total_bedrooms</th>\n",
       "      <td>0.027998</td>\n",
       "      <td>0.017013</td>\n",
       "    </tr>\n",
       "    <tr>\n",
       "      <th>num_pipeline__total_rooms</th>\n",
       "      <td>0.027334</td>\n",
       "      <td>0.016040</td>\n",
       "    </tr>\n",
       "    <tr>\n",
       "      <th>cat_pipeline__INLAND</th>\n",
       "      <td>0.009375</td>\n",
       "      <td>0.015902</td>\n",
       "    </tr>\n",
       "    <tr>\n",
       "      <th>cat_pipeline__NEAR BAY</th>\n",
       "      <td>0.002209</td>\n",
       "      <td>0.014188</td>\n",
       "    </tr>\n",
       "    <tr>\n",
       "      <th>num_pipeline__population</th>\n",
       "      <td>0.028176</td>\n",
       "      <td>0.014169</td>\n",
       "    </tr>\n",
       "    <tr>\n",
       "      <th>num_pipeline__households</th>\n",
       "      <td>0.025598</td>\n",
       "      <td>0.006132</td>\n",
       "    </tr>\n",
       "    <tr>\n",
       "      <th>cat_pipeline__&lt;1H OCEAN</th>\n",
       "      <td>0.006100</td>\n",
       "      <td>0.001436</td>\n",
       "    </tr>\n",
       "    <tr>\n",
       "      <th>cat_pipeline__ISLAND</th>\n",
       "      <td>0.000000</td>\n",
       "      <td>0.000000</td>\n",
       "    </tr>\n",
       "  </tbody>\n",
       "</table>\n",
       "</div>"
      ],
      "text/plain": [
       "                                             fst_cls   grb_cls\n",
       "num_pipeline__median_income                 0.274022  0.284421\n",
       "num_pipeline__rooms_per_household           0.068141  0.106374\n",
       "num_pipeline__latitude                      0.045814  0.102876\n",
       "geo_pipeline__1                             0.045805  0.090838\n",
       "num_pipeline__housing_median_age            0.061730  0.061691\n",
       "geo_pipeline__2                             0.050084  0.046553\n",
       "num_pipeline__population_per_household      0.056835  0.043873\n",
       "num_pipeline__log_population_per_household  0.062429  0.043793\n",
       "geo_pipeline__0                             0.048106  0.043116\n",
       "num_pipeline__longitude                     0.062193  0.042704\n",
       "num_pipeline__bedrooms_per_room             0.092515  0.030268\n",
       "cat_pipeline__NEAR OCEAN                    0.005536  0.018613\n",
       "num_pipeline__total_bedrooms                0.027998  0.017013\n",
       "num_pipeline__total_rooms                   0.027334  0.016040\n",
       "cat_pipeline__INLAND                        0.009375  0.015902\n",
       "cat_pipeline__NEAR BAY                      0.002209  0.014188\n",
       "num_pipeline__population                    0.028176  0.014169\n",
       "num_pipeline__households                    0.025598  0.006132\n",
       "cat_pipeline__<1H OCEAN                     0.006100  0.001436\n",
       "cat_pipeline__ISLAND                        0.000000  0.000000"
      ]
     },
     "execution_count": 45,
     "metadata": {},
     "output_type": "execute_result"
    }
   ],
   "source": [
    "fst_cls.fit(X_train, np.ravel(y_train))\n",
    "grb_cls.fit(X_train, np.ravel(y_train))\n",
    "\n",
    "importance = pd.DataFrame(dict([(var, globals()[var].feature_importances_) \n",
    "                                for var in ['fst_cls', 'grb_cls']]),\n",
    "                          index = X_train.columns)\n",
    "\n",
    "importance.sort_values(by='grb_cls', ascending=False)"
   ]
  },
  {
   "cell_type": "markdown",
   "metadata": {},
   "source": [
    "## TASK 8: Fine-tune the hyper-parameters of the best classifiers from Task 7\n",
    "\n",
    "* Select the best performing classifier from TASK 7 and fine-tune its hyper-parameters."
   ]
  },
  {
   "cell_type": "markdown",
   "metadata": {},
   "source": [
    "## TASK 9: Measure the performance of your model\n",
    "    \n",
    "* Evaluate your best model on the test set. \n",
    "* What is its accuracy? \n",
    "* Compare the result to the accuracy you would get from guessing."
   ]
  },
  {
   "cell_type": "code",
   "execution_count": null,
   "metadata": {
    "collapsed": true
   },
   "outputs": [],
   "source": []
  }
 ],
 "metadata": {
  "anaconda-cloud": {},
  "kernelspec": {
   "display_name": "Python [default]",
   "language": "python",
   "name": "python3"
  },
  "language_info": {
   "codemirror_mode": {
    "name": "ipython",
    "version": 3
   },
   "file_extension": ".py",
   "mimetype": "text/x-python",
   "name": "python",
   "nbconvert_exporter": "python",
   "pygments_lexer": "ipython3",
   "version": "3.5.2"
  },
  "nav_menu": {
   "height": "279px",
   "width": "309px"
  },
  "toc": {
   "navigate_menu": true,
   "number_sections": true,
   "sideBar": true,
   "threshold": 6,
   "toc_cell": false,
   "toc_section_display": "block",
   "toc_window_display": false
  }
 },
 "nbformat": 4,
 "nbformat_minor": 1
}
