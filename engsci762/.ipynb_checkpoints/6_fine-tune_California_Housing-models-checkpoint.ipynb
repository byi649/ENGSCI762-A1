{
 "cells": [
  {
   "cell_type": "markdown",
   "metadata": {},
   "source": [
    "# VI Fine-Tune your model\n",
    "\n",
    "This notebook assumes, that notebook 4_prepare_California_housing.ipynb (Version from 9th March 6:39pm) has been successfully executed."
   ]
  },
  {
   "cell_type": "code",
   "execution_count": 1,
   "metadata": {},
   "outputs": [],
   "source": [
    "import numpy as np \n",
    "import pandas as pd\n",
    "import matplotlib.pyplot as plt\n",
    "import seaborn as sns\n",
    "sns.set()\n",
    "\n",
    "%matplotlib inline"
   ]
  },
  {
   "cell_type": "code",
   "execution_count": 2,
   "metadata": {},
   "outputs": [
    {
     "data": {
      "text/plain": [
       "'../results/X_train.csv'"
      ]
     },
     "execution_count": 2,
     "metadata": {},
     "output_type": "execute_result"
    }
   ],
   "source": [
    "import os\n",
    "result_path = '../results'\n",
    "get_path = lambda fn: os.path.join(result_path, fn)\n",
    "get_path('X_train.csv')"
   ]
  },
  {
   "cell_type": "code",
   "execution_count": 3,
   "metadata": {},
   "outputs": [
    {
     "data": {
      "text/plain": [
       "((16512, 16), (16512, 1))"
      ]
     },
     "execution_count": 3,
     "metadata": {},
     "output_type": "execute_result"
    }
   ],
   "source": [
    "X_train = pd.read_csv(get_path('X_train.csv'), index_col=0)\n",
    "y_train = pd.read_csv(get_path('y_train.csv'), index_col=0)\n",
    "X_train.shape, y_train.shape"
   ]
  },
  {
   "cell_type": "markdown",
   "metadata": {},
   "source": [
    "## VI.1 Fine-tune the hyperparameters\n",
    "\n",
    "$f (x, y) = g(x) + h(y) \\approx g(x)$\n",
    "![Image](https://cdn-images-1.medium.com/max/800/1*ZTlQm_WRcrNqL-nLnx6GJA.png)\n",
    "http://jmlr.csail.mit.edu/papers/volume13/bergstra12a/bergstra12a.pdf\n"
   ]
  },
  {
   "cell_type": "markdown",
   "metadata": {},
   "source": [
    "### Grid Search"
   ]
  },
  {
   "cell_type": "code",
   "execution_count": 4,
   "metadata": {},
   "outputs": [
    {
     "data": {
      "text/plain": [
       "GridSearchCV(cv=10, error_score='raise',\n",
       "       estimator=RandomForestRegressor(bootstrap=True, criterion='mse', max_depth=None,\n",
       "           max_features='auto', max_leaf_nodes=None,\n",
       "           min_impurity_decrease=0.0, min_impurity_split=None,\n",
       "           min_samples_leaf=1, min_samples_split=2,\n",
       "           min_weight_fraction_leaf=0.0, n_estimators=10, n_jobs=1,\n",
       "           oob_score=False, random_state=None, verbose=0, warm_start=False),\n",
       "       fit_params=None, iid=True, n_jobs=1,\n",
       "       param_grid=[{'n_estimators': [3, 10, 30], 'max_features': [2, 4, 6, 8]}, {'bootstrap': [False], 'n_estimators': [3, 10], 'max_features': [2, 3, 4]}],\n",
       "       pre_dispatch='2*n_jobs', refit=True, return_train_score='warn',\n",
       "       scoring='neg_mean_squared_error', verbose=0)"
      ]
     },
     "execution_count": 4,
     "metadata": {},
     "output_type": "execute_result"
    }
   ],
   "source": [
    "from sklearn.ensemble import RandomForestRegressor\n",
    "from sklearn.model_selection import GridSearchCV\n",
    "\n",
    "param_grid = [{'n_estimators': [3, 10, 30], 'max_features': [2, 4, 6, 8]},\n",
    "              {'bootstrap': [False], 'n_estimators': [3, 10], 'max_features': [2, 3, 4]}\n",
    "             ]\n",
    "forest_reg = RandomForestRegressor()\n",
    "grid_search = GridSearchCV(forest_reg, param_grid, cv=10, scoring='neg_mean_squared_error')\n",
    "\n",
    "grid_search.fit(X_train, np.ravel(y_train))"
   ]
  },
  {
   "cell_type": "code",
   "execution_count": 5,
   "metadata": {},
   "outputs": [
    {
     "data": {
      "text/plain": [
       "{'max_features': 6, 'n_estimators': 30}"
      ]
     },
     "execution_count": 5,
     "metadata": {},
     "output_type": "execute_result"
    }
   ],
   "source": [
    "grid_search.best_params_"
   ]
  },
  {
   "cell_type": "code",
   "execution_count": 6,
   "metadata": {},
   "outputs": [
    {
     "data": {
      "text/plain": [
       "49315.571583673074"
      ]
     },
     "execution_count": 6,
     "metadata": {},
     "output_type": "execute_result"
    }
   ],
   "source": [
    "np.sqrt(-grid_search.best_score_)"
   ]
  },
  {
   "cell_type": "code",
   "execution_count": 7,
   "metadata": {},
   "outputs": [
    {
     "name": "stdout",
     "output_type": "stream",
     "text": [
      "63322.7233402 {'max_features': 2, 'n_estimators': 3}\n",
      "54558.2694604 {'max_features': 2, 'n_estimators': 10}\n",
      "52035.863399 {'max_features': 2, 'n_estimators': 30}\n",
      "59656.7575646 {'max_features': 4, 'n_estimators': 3}\n",
      "51833.8923192 {'max_features': 4, 'n_estimators': 10}\n",
      "49887.6231709 {'max_features': 4, 'n_estimators': 30}\n",
      "58584.3210863 {'max_features': 6, 'n_estimators': 3}\n",
      "51719.9867783 {'max_features': 6, 'n_estimators': 10}\n",
      "49315.5715837 {'max_features': 6, 'n_estimators': 30}\n",
      "57452.0674091 {'max_features': 8, 'n_estimators': 3}\n",
      "51162.4695606 {'max_features': 8, 'n_estimators': 10}\n",
      "49387.0753722 {'max_features': 8, 'n_estimators': 30}\n",
      "61956.5010195 {'bootstrap': False, 'max_features': 2, 'n_estimators': 3}\n",
      "53629.9910617 {'bootstrap': False, 'max_features': 2, 'n_estimators': 10}\n",
      "58866.2477254 {'bootstrap': False, 'max_features': 3, 'n_estimators': 3}\n",
      "52001.5140996 {'bootstrap': False, 'max_features': 3, 'n_estimators': 10}\n",
      "58373.3745911 {'bootstrap': False, 'max_features': 4, 'n_estimators': 3}\n",
      "50976.6137968 {'bootstrap': False, 'max_features': 4, 'n_estimators': 10}\n"
     ]
    }
   ],
   "source": [
    "cvres = grid_search.cv_results_\n",
    "for mean_score, params in zip(cvres[\"mean_test_score\"], cvres[\"params\"]):\n",
    "    print(np.sqrt(-mean_score), params)"
   ]
  },
  {
   "cell_type": "code",
   "execution_count": 8,
   "metadata": {},
   "outputs": [
    {
     "data": {
      "text/html": [
       "<div>\n",
       "<style scoped>\n",
       "    .dataframe tbody tr th:only-of-type {\n",
       "        vertical-align: middle;\n",
       "    }\n",
       "\n",
       "    .dataframe tbody tr th {\n",
       "        vertical-align: top;\n",
       "    }\n",
       "\n",
       "    .dataframe thead th {\n",
       "        text-align: right;\n",
       "    }\n",
       "</style>\n",
       "<table border=\"1\" class=\"dataframe\">\n",
       "  <thead>\n",
       "    <tr style=\"text-align: right;\">\n",
       "      <th></th>\n",
       "      <th>importance</th>\n",
       "    </tr>\n",
       "  </thead>\n",
       "  <tbody>\n",
       "    <tr>\n",
       "      <th>num_pipeline__median_income</th>\n",
       "      <td>0.355170</td>\n",
       "    </tr>\n",
       "    <tr>\n",
       "      <th>cat_pipeline__INLAND</th>\n",
       "      <td>0.166597</td>\n",
       "    </tr>\n",
       "    <tr>\n",
       "      <th>num_pipeline__population_per_household</th>\n",
       "      <td>0.108421</td>\n",
       "    </tr>\n",
       "    <tr>\n",
       "      <th>num_pipeline__longitude</th>\n",
       "      <td>0.067511</td>\n",
       "    </tr>\n",
       "    <tr>\n",
       "      <th>num_pipeline__latitude</th>\n",
       "      <td>0.062512</td>\n",
       "    </tr>\n",
       "    <tr>\n",
       "      <th>num_pipeline__bedrooms_per_room</th>\n",
       "      <td>0.061955</td>\n",
       "    </tr>\n",
       "    <tr>\n",
       "      <th>num_pipeline__rooms_per_household</th>\n",
       "      <td>0.050914</td>\n",
       "    </tr>\n",
       "    <tr>\n",
       "      <th>num_pipeline__housing_median_age</th>\n",
       "      <td>0.043908</td>\n",
       "    </tr>\n",
       "    <tr>\n",
       "      <th>num_pipeline__total_rooms</th>\n",
       "      <td>0.017801</td>\n",
       "    </tr>\n",
       "    <tr>\n",
       "      <th>num_pipeline__population</th>\n",
       "      <td>0.017092</td>\n",
       "    </tr>\n",
       "    <tr>\n",
       "      <th>num_pipeline__total_bedrooms</th>\n",
       "      <td>0.016976</td>\n",
       "    </tr>\n",
       "    <tr>\n",
       "      <th>num_pipeline__households</th>\n",
       "      <td>0.015452</td>\n",
       "    </tr>\n",
       "    <tr>\n",
       "      <th>cat_pipeline__&lt;1H OCEAN</th>\n",
       "      <td>0.009397</td>\n",
       "    </tr>\n",
       "    <tr>\n",
       "      <th>cat_pipeline__NEAR OCEAN</th>\n",
       "      <td>0.003819</td>\n",
       "    </tr>\n",
       "    <tr>\n",
       "      <th>cat_pipeline__NEAR BAY</th>\n",
       "      <td>0.002295</td>\n",
       "    </tr>\n",
       "    <tr>\n",
       "      <th>cat_pipeline__ISLAND</th>\n",
       "      <td>0.000180</td>\n",
       "    </tr>\n",
       "  </tbody>\n",
       "</table>\n",
       "</div>"
      ],
      "text/plain": [
       "                                        importance\n",
       "num_pipeline__median_income               0.355170\n",
       "cat_pipeline__INLAND                      0.166597\n",
       "num_pipeline__population_per_household    0.108421\n",
       "num_pipeline__longitude                   0.067511\n",
       "num_pipeline__latitude                    0.062512\n",
       "num_pipeline__bedrooms_per_room           0.061955\n",
       "num_pipeline__rooms_per_household         0.050914\n",
       "num_pipeline__housing_median_age          0.043908\n",
       "num_pipeline__total_rooms                 0.017801\n",
       "num_pipeline__population                  0.017092\n",
       "num_pipeline__total_bedrooms              0.016976\n",
       "num_pipeline__households                  0.015452\n",
       "cat_pipeline__<1H OCEAN                   0.009397\n",
       "cat_pipeline__NEAR OCEAN                  0.003819\n",
       "cat_pipeline__NEAR BAY                    0.002295\n",
       "cat_pipeline__ISLAND                      0.000180"
      ]
     },
     "execution_count": 8,
     "metadata": {},
     "output_type": "execute_result"
    }
   ],
   "source": [
    "importance = pd.DataFrame({'importance': grid_search.best_estimator_.feature_importances_},\n",
    "                          index = X_train.columns)\n",
    "importance.sort_values(ascending=False, by='importance')"
   ]
  },
  {
   "cell_type": "markdown",
   "metadata": {},
   "source": [
    "### Randomized Search"
   ]
  },
  {
   "cell_type": "code",
   "execution_count": 9,
   "metadata": {},
   "outputs": [
    {
     "data": {
      "text/plain": [
       "RandomizedSearchCV(cv=10, error_score='raise',\n",
       "          estimator=RandomForestRegressor(bootstrap=True, criterion='mse', max_depth=None,\n",
       "           max_features='auto', max_leaf_nodes=None,\n",
       "           min_impurity_decrease=0.0, min_impurity_split=None,\n",
       "           min_samples_leaf=1, min_samples_split=2,\n",
       "           min_weight_fraction_leaf=0.0, n_estimators=10, n_jobs=1,\n",
       "           oob_score=False, random_state=None, verbose=0, warm_start=False),\n",
       "          fit_params=None, iid=True, n_iter=100, n_jobs=4,\n",
       "          param_distributions={'n_estimators': <scipy.stats._distn_infrastructure.rv_frozen object at 0x1a0b738940>, 'max_features': <scipy.stats._distn_infrastructure.rv_frozen object at 0x1a0b7387f0>},\n",
       "          pre_dispatch='2*n_jobs', random_state=None, refit=True,\n",
       "          return_train_score='warn', scoring='neg_mean_squared_error',\n",
       "          verbose=0)"
      ]
     },
     "execution_count": 9,
     "metadata": {},
     "output_type": "execute_result"
    }
   ],
   "source": [
    "from sklearn.model_selection import RandomizedSearchCV\n",
    "from scipy.stats import randint\n",
    "\n",
    "param_distribs = {\n",
    "        'n_estimators': randint(low=1, high=200),\n",
    "        'max_features': randint(low=1, high=16),\n",
    "    }\n",
    "\n",
    "forest_reg = RandomForestRegressor()\n",
    "rnd_search = RandomizedSearchCV(forest_reg, param_distributions=param_distribs,\n",
    "                                n_iter=100, cv=10, scoring='neg_mean_squared_error',\n",
    "                               n_jobs=4)\n",
    "rnd_search.fit(X_train, np.ravel(y_train))"
   ]
  },
  {
   "cell_type": "code",
   "execution_count": 10,
   "metadata": {},
   "outputs": [
    {
     "data": {
      "text/plain": [
       "RandomForestRegressor(bootstrap=True, criterion='mse', max_depth=None,\n",
       "           max_features=6, max_leaf_nodes=None, min_impurity_decrease=0.0,\n",
       "           min_impurity_split=None, min_samples_leaf=1,\n",
       "           min_samples_split=2, min_weight_fraction_leaf=0.0,\n",
       "           n_estimators=174, n_jobs=1, oob_score=False, random_state=None,\n",
       "           verbose=0, warm_start=False)"
      ]
     },
     "execution_count": 10,
     "metadata": {},
     "output_type": "execute_result"
    }
   ],
   "source": [
    "rnd_search.best_estimator_"
   ]
  },
  {
   "cell_type": "code",
   "execution_count": 11,
   "metadata": {},
   "outputs": [
    {
     "data": {
      "text/plain": [
       "48443.53845389765"
      ]
     },
     "execution_count": 11,
     "metadata": {},
     "output_type": "execute_result"
    }
   ],
   "source": [
    "np.sqrt(-rnd_search.best_score_)"
   ]
  },
  {
   "cell_type": "code",
   "execution_count": 12,
   "metadata": {},
   "outputs": [
    {
     "data": {
      "text/html": [
       "<div>\n",
       "<style scoped>\n",
       "    .dataframe tbody tr th:only-of-type {\n",
       "        vertical-align: middle;\n",
       "    }\n",
       "\n",
       "    .dataframe tbody tr th {\n",
       "        vertical-align: top;\n",
       "    }\n",
       "\n",
       "    .dataframe thead th {\n",
       "        text-align: right;\n",
       "    }\n",
       "</style>\n",
       "<table border=\"1\" class=\"dataframe\">\n",
       "  <thead>\n",
       "    <tr style=\"text-align: right;\">\n",
       "      <th></th>\n",
       "      <th>importance</th>\n",
       "    </tr>\n",
       "  </thead>\n",
       "  <tbody>\n",
       "    <tr>\n",
       "      <th>num_pipeline__median_income</th>\n",
       "      <td>0.334844</td>\n",
       "    </tr>\n",
       "    <tr>\n",
       "      <th>cat_pipeline__INLAND</th>\n",
       "      <td>0.154042</td>\n",
       "    </tr>\n",
       "    <tr>\n",
       "      <th>num_pipeline__population_per_household</th>\n",
       "      <td>0.106235</td>\n",
       "    </tr>\n",
       "    <tr>\n",
       "      <th>num_pipeline__bedrooms_per_room</th>\n",
       "      <td>0.079933</td>\n",
       "    </tr>\n",
       "    <tr>\n",
       "      <th>num_pipeline__longitude</th>\n",
       "      <td>0.072441</td>\n",
       "    </tr>\n",
       "    <tr>\n",
       "      <th>num_pipeline__latitude</th>\n",
       "      <td>0.066764</td>\n",
       "    </tr>\n",
       "    <tr>\n",
       "      <th>num_pipeline__rooms_per_household</th>\n",
       "      <td>0.056723</td>\n",
       "    </tr>\n",
       "    <tr>\n",
       "      <th>num_pipeline__housing_median_age</th>\n",
       "      <td>0.043968</td>\n",
       "    </tr>\n",
       "    <tr>\n",
       "      <th>num_pipeline__population</th>\n",
       "      <td>0.017527</td>\n",
       "    </tr>\n",
       "    <tr>\n",
       "      <th>num_pipeline__total_rooms</th>\n",
       "      <td>0.017509</td>\n",
       "    </tr>\n",
       "    <tr>\n",
       "      <th>num_pipeline__total_bedrooms</th>\n",
       "      <td>0.016674</td>\n",
       "    </tr>\n",
       "    <tr>\n",
       "      <th>num_pipeline__households</th>\n",
       "      <td>0.015918</td>\n",
       "    </tr>\n",
       "    <tr>\n",
       "      <th>cat_pipeline__&lt;1H OCEAN</th>\n",
       "      <td>0.010051</td>\n",
       "    </tr>\n",
       "    <tr>\n",
       "      <th>cat_pipeline__NEAR OCEAN</th>\n",
       "      <td>0.004179</td>\n",
       "    </tr>\n",
       "    <tr>\n",
       "      <th>cat_pipeline__NEAR BAY</th>\n",
       "      <td>0.002973</td>\n",
       "    </tr>\n",
       "    <tr>\n",
       "      <th>cat_pipeline__ISLAND</th>\n",
       "      <td>0.000221</td>\n",
       "    </tr>\n",
       "  </tbody>\n",
       "</table>\n",
       "</div>"
      ],
      "text/plain": [
       "                                        importance\n",
       "num_pipeline__median_income               0.334844\n",
       "cat_pipeline__INLAND                      0.154042\n",
       "num_pipeline__population_per_household    0.106235\n",
       "num_pipeline__bedrooms_per_room           0.079933\n",
       "num_pipeline__longitude                   0.072441\n",
       "num_pipeline__latitude                    0.066764\n",
       "num_pipeline__rooms_per_household         0.056723\n",
       "num_pipeline__housing_median_age          0.043968\n",
       "num_pipeline__population                  0.017527\n",
       "num_pipeline__total_rooms                 0.017509\n",
       "num_pipeline__total_bedrooms              0.016674\n",
       "num_pipeline__households                  0.015918\n",
       "cat_pipeline__<1H OCEAN                   0.010051\n",
       "cat_pipeline__NEAR OCEAN                  0.004179\n",
       "cat_pipeline__NEAR BAY                    0.002973\n",
       "cat_pipeline__ISLAND                      0.000221"
      ]
     },
     "execution_count": 12,
     "metadata": {},
     "output_type": "execute_result"
    }
   ],
   "source": [
    "importance = pd.DataFrame({'importance': rnd_search.best_estimator_.feature_importances_},\n",
    "                          index = X_train.columns)\n",
    "importance.sort_values(ascending=False, by='importance')"
   ]
  },
  {
   "cell_type": "code",
   "execution_count": 13,
   "metadata": {},
   "outputs": [
    {
     "data": {
      "text/plain": [
       "['../results/my_random_forest_regressor.pkl']"
      ]
     },
     "execution_count": 13,
     "metadata": {},
     "output_type": "execute_result"
    }
   ],
   "source": [
    "from sklearn.externals import joblib\n",
    "final_model = rnd_search.best_estimator_\n",
    "joblib.dump(final_model, get_path(\"my_random_forest_regressor.pkl\"))"
   ]
  },
  {
   "cell_type": "markdown",
   "metadata": {},
   "source": [
    "## VI.6 Measure the performance on the test set"
   ]
  },
  {
   "cell_type": "code",
   "execution_count": 14,
   "metadata": {},
   "outputs": [],
   "source": [
    "X_test = pd.read_csv(get_path('X_test.csv'), index_col=0)\n",
    "y_test = pd.read_csv(get_path('y_test.csv'), index_col=0)"
   ]
  },
  {
   "cell_type": "code",
   "execution_count": 15,
   "metadata": {},
   "outputs": [
    {
     "name": "stdout",
     "output_type": "stream",
     "text": [
      "48804.902267\n"
     ]
    }
   ],
   "source": [
    "from sklearn.metrics import mean_squared_error\n",
    "y_pred = final_model.predict(X_test)\n",
    "print(np.sqrt(mean_squared_error(y_test, y_pred)))"
   ]
  },
  {
   "cell_type": "code",
   "execution_count": null,
   "metadata": {},
   "outputs": [],
   "source": []
  }
 ],
 "metadata": {
  "kernelspec": {
   "display_name": "Python 3",
   "language": "python",
   "name": "python3"
  },
  "language_info": {
   "codemirror_mode": {
    "name": "ipython",
    "version": 3
   },
   "file_extension": ".py",
   "mimetype": "text/x-python",
   "name": "python",
   "nbconvert_exporter": "python",
   "pygments_lexer": "ipython3",
   "version": "3.6.4"
  },
  "nav_menu": {
   "height": "279px",
   "width": "309px"
  },
  "toc": {
   "navigate_menu": true,
   "number_sections": true,
   "sideBar": true,
   "threshold": 6,
   "toc_cell": false,
   "toc_section_display": "block",
   "toc_window_display": false
  }
 },
 "nbformat": 4,
 "nbformat_minor": 1
}
