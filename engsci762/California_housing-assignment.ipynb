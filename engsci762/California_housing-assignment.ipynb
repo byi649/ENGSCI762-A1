{
 "cells": [
  {
   "cell_type": "markdown",
   "metadata": {},
   "source": [
    "# ENGSCI762 Data Science Assignment\n",
    "\n",
    "Develop a classifier for the California Housing dataset, which estimates the probability that the median house price of a specific district is larger or equal to USD500,000."
   ]
  },
  {
   "cell_type": "code",
   "execution_count": 2,
   "metadata": {
    "collapsed": true
   },
   "outputs": [],
   "source": [
    "import numpy as np \n",
    "import pandas as pd\n",
    "import matplotlib.pyplot as plt\n",
    "import seaborn as sns\n",
    "sns.set()\n",
    "\n",
    "%matplotlib inline"
   ]
  },
  {
   "cell_type": "markdown",
   "metadata": {},
   "source": [
    "## TASK 1 Define the label\n",
    "\n",
    "-  Execute notebook `2_get_California_housing_data.ipynb` and download the California Housing dataset.\n",
    "-  Write a function, which converts the continuous `median_house_value` into a class label, such that the label TRUE or 1 indicates a high priced district.\n",
    "-  Amend the function `split_feature_labels()` (see below) from `4_prepare_California_housing.ipynb` by an optional parameter, which switches the output of the target from regression to classification  \n"
   ]
  },
  {
   "cell_type": "code",
   "execution_count": 3,
   "metadata": {},
   "outputs": [
    {
     "data": {
      "text/html": [
       "<div>\n",
       "<style>\n",
       "    .dataframe thead tr:only-child th {\n",
       "        text-align: right;\n",
       "    }\n",
       "\n",
       "    .dataframe thead th {\n",
       "        text-align: left;\n",
       "    }\n",
       "\n",
       "    .dataframe tbody tr th {\n",
       "        vertical-align: top;\n",
       "    }\n",
       "</style>\n",
       "<table border=\"1\" class=\"dataframe\">\n",
       "  <thead>\n",
       "    <tr style=\"text-align: right;\">\n",
       "      <th></th>\n",
       "      <th>longitude</th>\n",
       "      <th>latitude</th>\n",
       "      <th>housing_median_age</th>\n",
       "      <th>total_rooms</th>\n",
       "      <th>total_bedrooms</th>\n",
       "      <th>population</th>\n",
       "      <th>households</th>\n",
       "      <th>median_income</th>\n",
       "    </tr>\n",
       "  </thead>\n",
       "  <tbody>\n",
       "    <tr>\n",
       "      <th>count</th>\n",
       "      <td>16512.000000</td>\n",
       "      <td>16512.000000</td>\n",
       "      <td>16512.000000</td>\n",
       "      <td>16512.000000</td>\n",
       "      <td>16344.000000</td>\n",
       "      <td>16512.000000</td>\n",
       "      <td>16512.000000</td>\n",
       "      <td>16512.000000</td>\n",
       "    </tr>\n",
       "    <tr>\n",
       "      <th>mean</th>\n",
       "      <td>-119.571981</td>\n",
       "      <td>35.634687</td>\n",
       "      <td>28.667696</td>\n",
       "      <td>2637.814801</td>\n",
       "      <td>538.206804</td>\n",
       "      <td>1426.546875</td>\n",
       "      <td>499.568314</td>\n",
       "      <td>3.867417</td>\n",
       "    </tr>\n",
       "    <tr>\n",
       "      <th>std</th>\n",
       "      <td>2.006763</td>\n",
       "      <td>2.138614</td>\n",
       "      <td>12.582749</td>\n",
       "      <td>2178.859507</td>\n",
       "      <td>420.659688</td>\n",
       "      <td>1141.436888</td>\n",
       "      <td>380.887558</td>\n",
       "      <td>1.903056</td>\n",
       "    </tr>\n",
       "    <tr>\n",
       "      <th>min</th>\n",
       "      <td>-124.350000</td>\n",
       "      <td>32.540000</td>\n",
       "      <td>1.000000</td>\n",
       "      <td>2.000000</td>\n",
       "      <td>1.000000</td>\n",
       "      <td>3.000000</td>\n",
       "      <td>1.000000</td>\n",
       "      <td>0.499900</td>\n",
       "    </tr>\n",
       "    <tr>\n",
       "      <th>25%</th>\n",
       "      <td>-121.800000</td>\n",
       "      <td>33.930000</td>\n",
       "      <td>18.000000</td>\n",
       "      <td>1453.000000</td>\n",
       "      <td>296.000000</td>\n",
       "      <td>786.000000</td>\n",
       "      <td>280.000000</td>\n",
       "      <td>2.560300</td>\n",
       "    </tr>\n",
       "    <tr>\n",
       "      <th>50%</th>\n",
       "      <td>-118.490000</td>\n",
       "      <td>34.250000</td>\n",
       "      <td>29.000000</td>\n",
       "      <td>2127.000000</td>\n",
       "      <td>435.000000</td>\n",
       "      <td>1167.000000</td>\n",
       "      <td>410.000000</td>\n",
       "      <td>3.534800</td>\n",
       "    </tr>\n",
       "    <tr>\n",
       "      <th>75%</th>\n",
       "      <td>-118.007500</td>\n",
       "      <td>37.720000</td>\n",
       "      <td>37.000000</td>\n",
       "      <td>3150.000000</td>\n",
       "      <td>647.250000</td>\n",
       "      <td>1728.250000</td>\n",
       "      <td>606.000000</td>\n",
       "      <td>4.739600</td>\n",
       "    </tr>\n",
       "    <tr>\n",
       "      <th>max</th>\n",
       "      <td>-114.310000</td>\n",
       "      <td>41.950000</td>\n",
       "      <td>52.000000</td>\n",
       "      <td>39320.000000</td>\n",
       "      <td>6445.000000</td>\n",
       "      <td>35682.000000</td>\n",
       "      <td>6082.000000</td>\n",
       "      <td>15.000100</td>\n",
       "    </tr>\n",
       "  </tbody>\n",
       "</table>\n",
       "</div>"
      ],
      "text/plain": [
       "          longitude      latitude  housing_median_age   total_rooms  \\\n",
       "count  16512.000000  16512.000000        16512.000000  16512.000000   \n",
       "mean    -119.571981     35.634687           28.667696   2637.814801   \n",
       "std        2.006763      2.138614           12.582749   2178.859507   \n",
       "min     -124.350000     32.540000            1.000000      2.000000   \n",
       "25%     -121.800000     33.930000           18.000000   1453.000000   \n",
       "50%     -118.490000     34.250000           29.000000   2127.000000   \n",
       "75%     -118.007500     37.720000           37.000000   3150.000000   \n",
       "max     -114.310000     41.950000           52.000000  39320.000000   \n",
       "\n",
       "       total_bedrooms    population    households  median_income  \n",
       "count    16344.000000  16512.000000  16512.000000   16512.000000  \n",
       "mean       538.206804   1426.546875    499.568314       3.867417  \n",
       "std        420.659688   1141.436888    380.887558       1.903056  \n",
       "min          1.000000      3.000000      1.000000       0.499900  \n",
       "25%        296.000000    786.000000    280.000000       2.560300  \n",
       "50%        435.000000   1167.000000    410.000000       3.534800  \n",
       "75%        647.250000   1728.250000    606.000000       4.739600  \n",
       "max       6445.000000  35682.000000   6082.000000      15.000100  "
      ]
     },
     "execution_count": 3,
     "metadata": {},
     "output_type": "execute_result"
    }
   ],
   "source": [
    "def convert_median_house_value(housing):\n",
    "    housing[\"median_house_value\"] = housing[\"median_house_value\"] >= 500000\n",
    "    return housing\n",
    "\n",
    "def split_features_labels(filename = '../data/train_set.csv', \n",
    "                          target_col='median_house_value',\n",
    "                          classify=True):\n",
    "    df = pd.read_csv(filename, index_col=0)\n",
    "    \n",
    "    if classify:\n",
    "        df = convert_median_house_value(df)\n",
    "        \n",
    "    X = df.drop(target_col, axis=1)\n",
    "    y = df[target_col].copy()\n",
    "    return X, y\n",
    "\n",
    "housing, housing_labels = split_features_labels(classify=True)\n",
    "housing_test, housing_test_labels = split_features_labels('../data/test_set.csv', classify=True)\n",
    "\n",
    "housing.describe()"
   ]
  },
  {
   "cell_type": "markdown",
   "metadata": {},
   "source": [
    "## TASK 2: Exploratory analysis\n",
    "\n",
    "- If you randomly choose a feature vector from your training set: What is the probability that this feature vector describes a high priced district with `median_house_value`>= USD500,000.\n",
    "- Develop a function `conddist`, which visualizes the conditional distribution of a specific features with respect to the class labels. (Tip: consider seaborn.distplot) \n",
    "- Visualize the spatial distribution of the high-priced districts only (ignoring the other districts)."
   ]
  },
  {
   "cell_type": "code",
   "execution_count": 4,
   "metadata": {},
   "outputs": [
    {
     "data": {
      "text/plain": [
       "0.046875"
      ]
     },
     "execution_count": 4,
     "metadata": {},
     "output_type": "execute_result"
    }
   ],
   "source": [
    "housing = pd.read_csv('../data/train_set.csv', index_col = 0)\n",
    "housing = convert_median_house_value(housing)\n",
    "\n",
    "sum(housing[\"median_house_value\"])/housing['median_house_value'].count()"
   ]
  },
  {
   "cell_type": "code",
   "execution_count": 13,
   "metadata": {},
   "outputs": [
    {
     "data": {
      "image/png": "[encoded data removed]",
      "text/plain": [
       "<matplotlib.figure.Figure at 0x2692cb419b0>"
      ]
     },
     "metadata": {},
     "output_type": "display_data"
    }
   ],
   "source": [
    "def conddist(feature):\n",
    "    sns.distplot(feature, kde=False)\n",
    "    plt.show()\n",
    "    \n",
    "conddist(housing['median_house_value'])"
   ]
  },
  {
   "cell_type": "code",
   "execution_count": 6,
   "metadata": {},
   "outputs": [
    {
     "data": {
      "text/plain": [
       "<matplotlib.axes._subplots.AxesSubplot at 0x2692b0d6780>"
      ]
     },
     "execution_count": 6,
     "metadata": {},
     "output_type": "execute_result"
    },
    {
     "data": {
      "image/png": "[encoded data removed]",
      "text/plain": [
       "<matplotlib.figure.Figure at 0x2692af59208>"
      ]
     },
     "metadata": {},
     "output_type": "display_data"
    }
   ],
   "source": [
    "housing_copy = housing.copy()\n",
    "housing_copy.where(housing_copy['median_house_value'], inplace=True)\n",
    "housing_copy.dropna(subset=['median_house_value'], inplace=True)\n",
    "housing_copy.plot(kind=\"scatter\", x=\"longitude\", y=\"latitude\", alpha=0.1)"
   ]
  },
  {
   "cell_type": "markdown",
   "metadata": {},
   "source": [
    "## TASK 3: Missing transformation\n",
    "\n",
    "In notebook `3_explore_California_housing.ipynb` we had identified a useful transformation, which has not been implemented in `4_prepare_California_housing.ipynb`. \n",
    "* Amend the code of class `CombinedAttributesAdder` in order to include this transformation.\n",
    "* Demonstrate that you're preparation pipeline has been successfully changed. "
   ]
  },
  {
   "cell_type": "markdown",
   "metadata": {},
   "source": [
    "### Temporarily remove categorical attribute"
   ]
  },
  {
   "cell_type": "code",
   "execution_count": 7,
   "metadata": {
    "collapsed": true
   },
   "outputs": [],
   "source": [
    "# Create DataFrame with numerical features\n",
    "housing_num = housing.drop(\"ocean_proximity\", axis=1)"
   ]
  },
  {
   "cell_type": "code",
   "execution_count": 8,
   "metadata": {},
   "outputs": [
    {
     "data": {
      "text/plain": [
       "'0.18.1'"
      ]
     },
     "execution_count": 8,
     "metadata": {},
     "output_type": "execute_result"
    }
   ],
   "source": [
    "import sklearn\n",
    "sklearn.__version__"
   ]
  },
  {
   "cell_type": "markdown",
   "metadata": {},
   "source": [
    "### Define pipelines"
   ]
  },
  {
   "cell_type": "code",
   "execution_count": 9,
   "metadata": {
    "collapsed": true
   },
   "outputs": [],
   "source": [
    "from sklearn.preprocessing import LabelBinarizer\n",
    "from sklearn.base import BaseEstimator, TransformerMixin\n",
    "from sklearn.preprocessing import Imputer\n",
    "from sklearn.pipeline import FeatureUnion\n",
    "from sklearn.pipeline import Pipeline\n",
    "from sklearn.preprocessing import StandardScaler\n",
    "\n",
    "class Binarizer(BaseEstimator, TransformerMixin):\n",
    "    \"Work around until CategoricalEncoder is in stable branch\"\n",
    "    def __init__(self):\n",
    "        self.binarizer = LabelBinarizer()\n",
    "    def fit(self, X, y=None):\n",
    "        return self.binarizer.fit(X)\n",
    "    def transform(self, X, y=None):\n",
    "        return self.binarizer.transform(X)\n",
    "    \n",
    "class DataFrameSelector(BaseEstimator, TransformerMixin):\n",
    "    def __init__(self, attribute_names):\n",
    "        self.attribute_names = attribute_names\n",
    "    def fit(self, X, y=None):\n",
    "        return self\n",
    "    def transform(self, X):\n",
    "        return X[self.attribute_names].values\n",
    "    \n",
    "num_attribs = list(housing_num)\n",
    "cat_attribs = [\"ocean_proximity\"]\n",
    "\n",
    "rooms_ix, bedrooms_ix, population_ix, household_ix = 3, 4, 5, 6\n",
    "\n",
    "class CombinedAttributesAdder(BaseEstimator, TransformerMixin):\n",
    "    def __init__(self, add_bedrooms_per_room = True): # no *args or **kargs\n",
    "        self.add_bedrooms_per_room = add_bedrooms_per_room\n",
    "        self.added_columns = [\"rooms_per_household\", \"population_per_household\", \"log_population_per_household\"]\n",
    "        if self.add_bedrooms_per_room:\n",
    "            self.added_columns += [\"bedrooms_per_room\"]\n",
    "            \n",
    "    def fit(self, X, y=None):\n",
    "        return self  # nothing else to do\n",
    "    \n",
    "    def transform(self, X, y=None):\n",
    "        rooms_per_household = X[:, rooms_ix] / X[:, household_ix]\n",
    "        population_per_household = X[:, population_ix] / X[:, household_ix]\n",
    "        log_population_per_househould = np.log(population_per_household)\n",
    "        if self.add_bedrooms_per_room:\n",
    "            bedrooms_per_room = X[:, bedrooms_ix] / X[:, rooms_ix]\n",
    "            return np.c_[X, rooms_per_household, population_per_household, log_population_per_househould, bedrooms_per_room]\n",
    "        else:\n",
    "            return np.c_[X, rooms_per_household, population_per_household, log_population_per_househould]\n",
    "        \n",
    "num_pipeline = Pipeline([\n",
    "        ('selector', DataFrameSelector(num_attribs)),\n",
    "        ('imputer', Imputer(strategy=\"median\")),\n",
    "        ('attribs_adder', CombinedAttributesAdder()),\n",
    "        ('std_scaler', StandardScaler()),\n",
    "    ])\n",
    "\n",
    "# Monkey-patch function returning feature names\n",
    "all_num_columns = num_attribs + num_pipeline.named_steps['attribs_adder'].added_columns\n",
    "num_pipeline.get_feature_names = lambda: all_num_columns\n",
    "\n",
    "# Modify class by inheritance\n",
    "cat_pipeline_steps = [\n",
    "        ('selector', DataFrameSelector(cat_attribs)),\n",
    "        ('label_encoder', Binarizer()),\n",
    "    ]\n",
    "\n",
    "class MyPipeline(Pipeline):\n",
    "    def get_feature_names(self):\n",
    "        return self.steps[1][1].binarizer.classes_\n",
    "    \n",
    "cat_pipeline = MyPipeline(cat_pipeline_steps)\n",
    "\n",
    "preparation_pipeline = FeatureUnion(transformer_list=[\n",
    "        (\"num_pipeline\", num_pipeline),\n",
    "        (\"cat_pipeline\", cat_pipeline),\n",
    "    ])\n",
    "\n",
    "#obj = cat_pipeline.steps[1][1]\n",
    "#obj.binarizer.classes_\n",
    "\n",
    "#preparation_pipeline.get_feature_names()"
   ]
  },
  {
   "cell_type": "code",
   "execution_count": 10,
   "metadata": {},
   "outputs": [
    {
     "data": {
      "text/html": [
       "<div>\n",
       "<style>\n",
       "    .dataframe thead tr:only-child th {\n",
       "        text-align: right;\n",
       "    }\n",
       "\n",
       "    .dataframe thead th {\n",
       "        text-align: left;\n",
       "    }\n",
       "\n",
       "    .dataframe tbody tr th {\n",
       "        vertical-align: top;\n",
       "    }\n",
       "</style>\n",
       "<table border=\"1\" class=\"dataframe\">\n",
       "  <thead>\n",
       "    <tr style=\"text-align: right;\">\n",
       "      <th></th>\n",
       "      <th>num_pipeline__longitude</th>\n",
       "      <th>num_pipeline__latitude</th>\n",
       "      <th>num_pipeline__housing_median_age</th>\n",
       "      <th>num_pipeline__total_rooms</th>\n",
       "      <th>num_pipeline__total_bedrooms</th>\n",
       "      <th>num_pipeline__population</th>\n",
       "      <th>num_pipeline__households</th>\n",
       "      <th>num_pipeline__median_income</th>\n",
       "      <th>num_pipeline__median_house_value</th>\n",
       "      <th>num_pipeline__rooms_per_household</th>\n",
       "      <th>num_pipeline__population_per_household</th>\n",
       "      <th>num_pipeline__log_population_per_household</th>\n",
       "      <th>num_pipeline__bedrooms_per_room</th>\n",
       "      <th>cat_pipeline__&lt;1H OCEAN</th>\n",
       "      <th>cat_pipeline__INLAND</th>\n",
       "      <th>cat_pipeline__ISLAND</th>\n",
       "      <th>cat_pipeline__NEAR BAY</th>\n",
       "      <th>cat_pipeline__NEAR OCEAN</th>\n",
       "    </tr>\n",
       "  </thead>\n",
       "  <tbody>\n",
       "    <tr>\n",
       "      <th>1862</th>\n",
       "      <td>-2.281365</td>\n",
       "      <td>2.887619</td>\n",
       "      <td>-0.927305</td>\n",
       "      <td>0.292908</td>\n",
       "      <td>0.217002</td>\n",
       "      <td>1.856885</td>\n",
       "      <td>0.224303</td>\n",
       "      <td>-0.830593</td>\n",
       "      <td>-0.221766</td>\n",
       "      <td>0.060497</td>\n",
       "      <td>0.255269</td>\n",
       "      <td>2.775788</td>\n",
       "      <td>-0.346868</td>\n",
       "      <td>0.0</td>\n",
       "      <td>0.0</td>\n",
       "      <td>0.0</td>\n",
       "      <td>0.0</td>\n",
       "      <td>1.0</td>\n",
       "    </tr>\n",
       "    <tr>\n",
       "      <th>18832</th>\n",
       "      <td>-1.668419</td>\n",
       "      <td>2.836182</td>\n",
       "      <td>-0.450447</td>\n",
       "      <td>0.633004</td>\n",
       "      <td>0.608756</td>\n",
       "      <td>0.181753</td>\n",
       "      <td>0.313571</td>\n",
       "      <td>-0.793651</td>\n",
       "      <td>-0.221766</td>\n",
       "      <td>0.402002</td>\n",
       "      <td>-0.039779</td>\n",
       "      <td>-0.265156</td>\n",
       "      <td>-0.260680</td>\n",
       "      <td>0.0</td>\n",
       "      <td>1.0</td>\n",
       "      <td>0.0</td>\n",
       "      <td>0.0</td>\n",
       "      <td>0.0</td>\n",
       "    </tr>\n",
       "    <tr>\n",
       "      <th>2488</th>\n",
       "      <td>-0.387710</td>\n",
       "      <td>0.236288</td>\n",
       "      <td>-1.563116</td>\n",
       "      <td>0.015231</td>\n",
       "      <td>0.262388</td>\n",
       "      <td>0.050336</td>\n",
       "      <td>0.108780</td>\n",
       "      <td>-1.135007</td>\n",
       "      <td>-0.221766</td>\n",
       "      <td>-0.193990</td>\n",
       "      <td>-0.030870</td>\n",
       "      <td>-0.124698</td>\n",
       "      <td>0.450124</td>\n",
       "      <td>0.0</td>\n",
       "      <td>1.0</td>\n",
       "      <td>0.0</td>\n",
       "      <td>0.0</td>\n",
       "      <td>0.0</td>\n",
       "    </tr>\n",
       "    <tr>\n",
       "      <th>7637</th>\n",
       "      <td>0.638850</td>\n",
       "      <td>-0.848560</td>\n",
       "      <td>-0.609400</td>\n",
       "      <td>0.800987</td>\n",
       "      <td>0.869129</td>\n",
       "      <td>1.106054</td>\n",
       "      <td>1.085476</td>\n",
       "      <td>-0.225916</td>\n",
       "      <td>-0.221766</td>\n",
       "      <td>-0.246395</td>\n",
       "      <td>-0.013438</td>\n",
       "      <td>0.135438</td>\n",
       "      <td>-0.128123</td>\n",
       "      <td>1.0</td>\n",
       "      <td>0.0</td>\n",
       "      <td>0.0</td>\n",
       "      <td>0.0</td>\n",
       "      <td>0.0</td>\n",
       "    </tr>\n",
       "    <tr>\n",
       "      <th>6941</th>\n",
       "      <td>0.733532</td>\n",
       "      <td>-0.769067</td>\n",
       "      <td>0.185363</td>\n",
       "      <td>-0.767771</td>\n",
       "      <td>-0.764773</td>\n",
       "      <td>-0.725026</td>\n",
       "      <td>-0.770771</td>\n",
       "      <td>-0.602847</td>\n",
       "      <td>-0.221766</td>\n",
       "      <td>-0.291004</td>\n",
       "      <td>-0.016668</td>\n",
       "      <td>0.088602</td>\n",
       "      <td>0.176319</td>\n",
       "      <td>1.0</td>\n",
       "      <td>0.0</td>\n",
       "      <td>0.0</td>\n",
       "      <td>0.0</td>\n",
       "      <td>0.0</td>\n",
       "    </tr>\n",
       "  </tbody>\n",
       "</table>\n",
       "</div>"
      ],
      "text/plain": [
       "       num_pipeline__longitude  num_pipeline__latitude  \\\n",
       "1862                 -2.281365                2.887619   \n",
       "18832                -1.668419                2.836182   \n",
       "2488                 -0.387710                0.236288   \n",
       "7637                  0.638850               -0.848560   \n",
       "6941                  0.733532               -0.769067   \n",
       "\n",
       "       num_pipeline__housing_median_age  num_pipeline__total_rooms  \\\n",
       "1862                          -0.927305                   0.292908   \n",
       "18832                         -0.450447                   0.633004   \n",
       "2488                          -1.563116                   0.015231   \n",
       "7637                          -0.609400                   0.800987   \n",
       "6941                           0.185363                  -0.767771   \n",
       "\n",
       "       num_pipeline__total_bedrooms  num_pipeline__population  \\\n",
       "1862                       0.217002                  1.856885   \n",
       "18832                      0.608756                  0.181753   \n",
       "2488                       0.262388                  0.050336   \n",
       "7637                       0.869129                  1.106054   \n",
       "6941                      -0.764773                 -0.725026   \n",
       "\n",
       "       num_pipeline__households  num_pipeline__median_income  \\\n",
       "1862                   0.224303                    -0.830593   \n",
       "18832                  0.313571                    -0.793651   \n",
       "2488                   0.108780                    -1.135007   \n",
       "7637                   1.085476                    -0.225916   \n",
       "6941                  -0.770771                    -0.602847   \n",
       "\n",
       "       num_pipeline__median_house_value  num_pipeline__rooms_per_household  \\\n",
       "1862                          -0.221766                           0.060497   \n",
       "18832                         -0.221766                           0.402002   \n",
       "2488                          -0.221766                          -0.193990   \n",
       "7637                          -0.221766                          -0.246395   \n",
       "6941                          -0.221766                          -0.291004   \n",
       "\n",
       "       num_pipeline__population_per_household  \\\n",
       "1862                                 0.255269   \n",
       "18832                               -0.039779   \n",
       "2488                                -0.030870   \n",
       "7637                                -0.013438   \n",
       "6941                                -0.016668   \n",
       "\n",
       "       num_pipeline__log_population_per_household  \\\n",
       "1862                                     2.775788   \n",
       "18832                                   -0.265156   \n",
       "2488                                    -0.124698   \n",
       "7637                                     0.135438   \n",
       "6941                                     0.088602   \n",
       "\n",
       "       num_pipeline__bedrooms_per_room  cat_pipeline__<1H OCEAN  \\\n",
       "1862                         -0.346868                      0.0   \n",
       "18832                        -0.260680                      0.0   \n",
       "2488                          0.450124                      0.0   \n",
       "7637                         -0.128123                      1.0   \n",
       "6941                          0.176319                      1.0   \n",
       "\n",
       "       cat_pipeline__INLAND  cat_pipeline__ISLAND  cat_pipeline__NEAR BAY  \\\n",
       "1862                    0.0                   0.0                     0.0   \n",
       "18832                   1.0                   0.0                     0.0   \n",
       "2488                    1.0                   0.0                     0.0   \n",
       "7637                    0.0                   0.0                     0.0   \n",
       "6941                    0.0                   0.0                     0.0   \n",
       "\n",
       "       cat_pipeline__NEAR OCEAN  \n",
       "1862                        1.0  \n",
       "18832                       0.0  \n",
       "2488                        0.0  \n",
       "7637                        0.0  \n",
       "6941                        0.0  "
      ]
     },
     "execution_count": 10,
     "metadata": {},
     "output_type": "execute_result"
    }
   ],
   "source": [
    "X_train = pd.DataFrame(preparation_pipeline.fit_transform(housing),\n",
    "                       columns=preparation_pipeline.get_feature_names(),\n",
    "                       index = housing.index)\n",
    "X_train.head()"
   ]
  },
  {
   "cell_type": "markdown",
   "metadata": {},
   "source": [
    "## TASK 4: Visualize new continuous features\n",
    "* Use function `conddist` from Task 2 for visualizing the new continuous features.\n",
    "* Discuss the diagrams"
   ]
  },
  {
   "cell_type": "code",
   "execution_count": 14,
   "metadata": {},
   "outputs": [
    {
     "data": {
      "image/png": "[encoded data removed]",
      "text/plain": [
       "<matplotlib.figure.Figure at 0x2692cf2c160>"
      ]
     },
     "metadata": {},
     "output_type": "display_data"
    },
    {
     "data": {
      "image/png": "[encoded data removed]",
      "text/plain": [
       "<matplotlib.figure.Figure at 0x2692cf2c6d8>"
      ]
     },
     "metadata": {},
     "output_type": "display_data"
    },
    {
     "data": {
      "image/png": "[encoded data removed]",
      "text/plain": [
       "<matplotlib.figure.Figure at 0x2692cef82b0>"
      ]
     },
     "metadata": {},
     "output_type": "display_data"
    },
    {
     "data": {
      "image/png": "[encoded data removed]",
      "text/plain": [
       "<matplotlib.figure.Figure at 0x2692cdf4c88>"
      ]
     },
     "metadata": {},
     "output_type": "display_data"
    }
   ],
   "source": [
    "conddist(X_train['num_pipeline__population_per_household'])\n",
    "conddist(X_train['num_pipeline__log_population_per_household'])\n",
    "conddist(X_train['num_pipeline__rooms_per_household'])\n",
    "conddist(X_train['num_pipeline__bedrooms_per_room'])"
   ]
  },
  {
   "cell_type": "markdown",
   "metadata": {},
   "source": [
    "## TASK 5: Use clustering for the engineering of additional geo-spatial features\n",
    "\n",
    "- Read the documentation of `sklearn.clustering.KMeans` and train a `KMeans`model with respect to `longitude` and `lattidue`.\n",
    "- Visualize the predictions of KMeans.\n",
    "- How do the predictions change for different values of parameter `n_clusters`? "
   ]
  },
  {
   "cell_type": "code",
   "execution_count": 24,
   "metadata": {},
   "outputs": [
    {
     "name": "stdout",
     "output_type": "stream",
     "text": [
      "[2 2 2 ..., 7 1 7]\n"
     ]
    }
   ],
   "source": [
    "from sklearn.cluster import KMeans\n",
    "y_pred = KMeans().fit_predict(X_train)\n",
    "print(y_pred)"
   ]
  },
  {
   "cell_type": "markdown",
   "metadata": {},
   "source": [
    "## TASK 6: Add the KMeans predictions to the preparation pipeline\n",
    "\n",
    "* Develop an extended `preparation_pipeline`, which includes the geo-spatial information provided by `KMeans.fit_transform()`. \n",
    "* What is the interpretation of these features?"
   ]
  },
  {
   "cell_type": "markdown",
   "metadata": {},
   "source": [
    "## TASK 7: Evaluate different classifiers and select two\n",
    "\n",
    "* Evaluate the accuracy of `LogisticRegression`, `DecisionTreeClassifier`, `AdaBoostClassifier`, `GradientBoostingClassifier`, and `RandomForestClassifier` with 10-fold cross-validation. \n",
    "\n",
    "- Discuss the most important features for the two best performing classifiers. Are the geo-spatial features relevant?\n",
    "\n",
    "- Select the best performing classifier for the next task."
   ]
  },
  {
   "cell_type": "markdown",
   "metadata": {},
   "source": [
    "## TASK 8: Fine-tune the hyper-parameters of the best classifiers from Task 7\n",
    "\n",
    "* Select the two best performing classifiers from TASK 7 and fine-tune their hyper-parameters."
   ]
  },
  {
   "cell_type": "markdown",
   "metadata": {},
   "source": [
    "## TASK 9: Measure the performance of your model\n",
    "    \n",
    "* Evaluate your best model on the test set. \n",
    "* What is its accuracy? \n",
    "* Compare the result to the accuracy you would get from guessing."
   ]
  },
  {
   "cell_type": "code",
   "execution_count": null,
   "metadata": {
    "collapsed": true
   },
   "outputs": [],
   "source": []
  }
 ],
 "metadata": {
  "kernelspec": {
   "display_name": "Python 3",
   "language": "python",
   "name": "python3"
  },
  "language_info": {
   "codemirror_mode": {
    "name": "ipython",
    "version": 3
   },
   "file_extension": ".py",
   "mimetype": "text/x-python",
   "name": "python",
   "nbconvert_exporter": "python",
   "pygments_lexer": "ipython3",
   "version": "3.6.1"
  },
  "nav_menu": {
   "height": "279px",
   "width": "309px"
  },
  "toc": {
   "navigate_menu": true,
   "number_sections": true,
   "sideBar": true,
   "threshold": 6,
   "toc_cell": false,
   "toc_section_display": "block",
   "toc_window_display": false
  }
 },
 "nbformat": 4,
 "nbformat_minor": 1
}
